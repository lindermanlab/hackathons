{
  "nbformat": 4,
  "nbformat_minor": 0,
  "metadata": {
    "colab": {
      "name": "Weighing the Evidence in SWRs.ipynb",
      "provenance": [],
      "collapsed_sections": [],
      "toc_visible": true
    },
    "kernelspec": {
      "name": "python3",
      "display_name": "Python 3"
    },
    "language_info": {
      "name": "python"
    }
  },
  "cells": [
    {
      "cell_type": "markdown",
      "source": [
        "# Weighing the evidence in SWRs\n",
        "_Scott Linderman_ \\\\\n",
        "_January 24, 2022_\n",
        "\n",
        "---\n",
        "\n",
        "Imagine you are navigating a large Scandinavian furniture store. \n",
        "You find yourself in the _Children's Rooms_ section with who knows how many miles to go before checkout.\n",
        "It didn't seem to take so long last time you were here...\n",
        "You recall weaving your way through _Kitchen and Dining_ into _Home Office_ and _Children's Rooms_, and then you remember.\n",
        "There was a shortcut, hidden behind a brown-black lacquered wardrobe, that led straight to the exit!\n",
        "\n",
        "What neural mechanisms might facilitate the recollection of past experiences and the formation of mental models of the environment?\n",
        "Rodents performing spatial navigation tasks, albeit in less enriched environments, seem to perform similar mental computations.\n",
        "As animals move through their environment, place cells in the hippocampus fire in a spatially localized manner to represent the animal's current location. \n",
        "Every so often, when the animal pauses, there are brief bursts of spiking activity in the hippocampus known as sharp-wave ripples~(SWRs).\n",
        "In a fraction of SWRs, the burst involves a sequence of spikes across neurons with adjacent place fields.\n",
        "In other words, some SWRs seem to correspond to mental simulation, or ``replay,'' of trajectories through space. \n",
        "\n",
        "Surprisingly, previous work suggested that only a fraction ($\\sim$25\\%) of SWRs constitute replay of trajectories [(Pfeiffer and Foster, 2015)](https://pubmed.ncbi.nlm.nih.gov/26160946/). \n",
        "In a paper in this issue, [Krause and Drugowitsch (2022)](https://pubmed.ncbi.nlm.nih.gov/34863366/)  hypothesized that the remaining SWRs might also encode spatial trajectories, but that previous methods for classifying SWRs were overly restrictive.\n",
        "For example, previous methods placed strict constraints on the inferred velocity profile or distance traveled in order for an SWR to be considered a trajectory.\n",
        "To address this limitation, Krause and Drugowitsch (2022) developed a novel method for classifying SWRs based on state space models and Bayesian model comparison, using what statisticians call the _model evidence_\n"
      ],
      "metadata": {
        "id": "a78eRVpEz9Mg"
      }
    },
    {
      "cell_type": "markdown",
      "source": [
        "## Setup"
      ],
      "metadata": {
        "id": "fyk32jEi1K6R"
      }
    },
    {
      "cell_type": "code",
      "source": [
        "!pip install -q git+https://github.com/lindermanlab/ssm-jax-refactor.git"
      ],
      "metadata": {
        "id": "zx0OjMmaM47j"
      },
      "execution_count": 1,
      "outputs": []
    },
    {
      "cell_type": "code",
      "execution_count": 2,
      "metadata": {
        "id": "57tbPbD0ImhS"
      },
      "outputs": [],
      "source": [
        "import warnings\n",
        "\n",
        "import ssm.hmm\n",
        "import jax.numpy as np\n",
        "import jax.random as jr\n",
        "from tensorflow_probability.substrates import jax as tfp\n",
        "\n",
        "import matplotlib.pyplot as plt\n",
        "from matplotlib.gridspec import GridSpec\n",
        "from matplotlib.cm import Blues, Reds, Greens, Purples, Greys\n",
        "import seaborn as sns\n",
        "sns.set_context(\"paper\")"
      ]
    },
    {
      "cell_type": "markdown",
      "source": [
        "## Build the random and diffusion models"
      ],
      "metadata": {
        "id": "u2XLa8TCNLgl"
      }
    },
    {
      "cell_type": "code",
      "source": [
        "# Construct the random number generator for reproducibility\n",
        "rng = jr.PRNGKey(0)\n",
        "\n",
        "# Specify the environment \n",
        "grid_size = 10\n",
        "bin_edges = np.arange(grid_size+1)\n",
        "grid_pts = (bin_edges[:-1] + bin_edges[1:]) / 2\n",
        "grid = np.meshgrid(grid_pts, grid_pts)\n",
        "grid_xy = np.column_stack([g.ravel() for g in grid])\n",
        "\n",
        "# Make a denser grid for contour plots\n",
        "dense_grid = np.meshgrid(np.linspace(0, grid_size), np.linspace(0, grid_size))\n",
        "dense_grid_xy = np.column_stack([g.ravel() for g in dense_grid])\n",
        "\n",
        "# Specify the place fields and the expected spikes at each location\n",
        "rng, this_rng = jr.split(rng, 2)\n",
        "num_neurons = 50\n",
        "place_field_width = 1 * np.ones(2)\n",
        "place_field_centers = jr.uniform(this_rng, shape=(num_neurons, 2), \n",
        "                                 minval=0, maxval=grid_size)\n",
        "place_field_amp = 20 \n",
        "rates = place_field_amp * tfp.distributions.MultivariateNormalDiag(\n",
        "    place_field_centers, place_field_width).prob(\n",
        "        grid_xy[:, None, :]) + 0.25\n",
        "\n",
        "\n",
        "# Evaluate rates on the dense grid for plotting\n",
        "dense_rates = place_field_amp * tfp.distributions.MultivariateNormalDiag(\n",
        "    place_field_centers, place_field_width).prob(\n",
        "        dense_grid_xy[:, None, :])  + 0.15\n",
        "\n",
        "\n",
        "# Specify the random transition matrix\n",
        "P_random = np.ones((grid_size**2, grid_size**2)) / grid_size**2\n",
        "\n",
        "# Specify the diffusion model transition matrix\n",
        "P_diffusion = np.exp(-0.5 * np.sum((grid_xy[:, None, :] - grid_xy[None, :, :])**2, axis=-1) / 0.5**2)\n",
        "P_diffusion = P_diffusion.at[np.arange(grid_size**2), np.arange(grid_size**2)].set(1e-3)\n",
        "P_diffusion /= P_diffusion.sum(axis=1, keepdims=True)"
      ],
      "metadata": {
        "id": "xsKUbgGENLB7",
        "colab": {
          "base_uri": "https://localhost:8080/"
        },
        "outputId": "6ac0c768-4196-4413-8314-c5eb930d4281"
      },
      "execution_count": 3,
      "outputs": [
        {
          "output_type": "stream",
          "name": "stderr",
          "text": [
            "WARNING:absl:No GPU/TPU found, falling back to CPU. (Set TF_CPP_MIN_LOG_LEVEL=0 and rerun for more info.)\n"
          ]
        }
      ]
    },
    {
      "cell_type": "code",
      "source": [
        "# Build the random and diffusion models with SSM\n",
        "random_model = ssm.hmm.PoissonHMM(\n",
        "    num_states=grid_size**2,\n",
        "    num_emission_dims=num_neurons,\n",
        "    initial_state_probs=np.ones(grid_size**2) / grid_size**2,\n",
        "    transition_matrix=P_random,\n",
        "    emission_rates=rates\n",
        ")\n",
        "\n",
        "diffusion_model = ssm.hmm.PoissonHMM(\n",
        "    num_states=grid_size**2,\n",
        "    num_emission_dims=num_neurons,\n",
        "    initial_state_probs=np.ones(grid_size**2) / grid_size**2,\n",
        "    transition_matrix=P_diffusion,\n",
        "    emission_rates=rates\n",
        ")"
      ],
      "metadata": {
        "id": "pHBOICwMQ0Y4"
      },
      "execution_count": 4,
      "outputs": []
    },
    {
      "cell_type": "markdown",
      "source": [
        "## Sample the diffusion model\n",
        "\n",
        "Note: this can take a few seconds since under the hood SSM uses JAX, which compiles the sampling code. That's good if we're sampling a lot, but slow if we're only sampling once, like we are here."
      ],
      "metadata": {
        "id": "pSGEh_eg1u8f"
      }
    },
    {
      "cell_type": "code",
      "source": [
        "rng = jr.PRNGKey(124)\n",
        "num_steps = 10\n",
        "\n",
        "with warnings.catch_warnings():\n",
        "    warnings.simplefilter(\"ignore\")\n",
        "    states, spikes = diffusion_model.sample(num_steps=num_steps, key=rng)\n",
        "\n",
        "# Convert the states from (0,..,99) to (x,y) coordinates in the 10x10 grid\n",
        "states_y, states_x = np.unravel_index(states, (grid_size, grid_size))\n",
        "\n",
        "# Compute some summary statistics for later\n",
        "num_spikes = spikes.sum()"
      ],
      "metadata": {
        "id": "vpDI4PC9VX1W"
      },
      "execution_count": 5,
      "outputs": []
    },
    {
      "cell_type": "markdown",
      "source": [
        "## Compute the model evidence and the fraction of deviance explained"
      ],
      "metadata": {
        "id": "7ITB_kQQa1OQ"
      }
    },
    {
      "cell_type": "code",
      "source": [
        "# Compute likelihood under the two SSMs\n",
        "diffusion_ll = diffusion_model.marginal_likelihood(spikes)\n",
        "random_ll = random_model.marginal_likelihood(spikes)\n",
        "\n",
        "# Compute log likelihood under the null model\n",
        "avg_rate = np.mean(rates, axis=0)\n",
        "null_ll = tfp.distributions.Poisson(avg_rate).log_prob(spikes).sum()\n",
        "\n",
        "# Compute the log likelihood under the saturated models\n",
        "sat_ll = tfp.distributions.Poisson(spikes).log_prob(spikes).sum()\n",
        "\n",
        "# Compute the fraction of deviance explained\n",
        "print(\"Fraction of deviance explained:\")\n",
        "print(\"diffusion: \", 1 - (sat_ll - diffusion_ll) / (sat_ll - null_ll))\n",
        "print(\"random:    \", 1 - (sat_ll - random_ll) / (sat_ll - null_ll))"
      ],
      "metadata": {
        "colab": {
          "base_uri": "https://localhost:8080/"
        },
        "id": "GwXi047PWZaN",
        "outputId": "c0ad6aec-db33-44ed-bc30-f9a8527ab3f2"
      },
      "execution_count": 6,
      "outputs": [
        {
          "output_type": "stream",
          "name": "stdout",
          "text": [
            "Fraction of deviance explained:\n",
            "diffusion:  0.1983316\n",
            "random:     0.1265307\n"
          ]
        }
      ]
    },
    {
      "cell_type": "markdown",
      "source": [
        "## Make the figure for the paper"
      ],
      "metadata": {
        "id": "vD_HMFgczWUK"
      }
    },
    {
      "cell_type": "code",
      "source": [
        "fig = plt.figure(figsize=(6.5, 2.5))\n",
        "gs = GridSpec(1, 3, width_ratios=(1, 1, 0.5))\n",
        "neurons = [7, 19, 27, 46]\n",
        "cmaps = [Blues, Reds, Greens, Purples]\n",
        "\n",
        "# A. Plot the environment and a few place fields\n",
        "ax0 = fig.add_subplot(gs[0,0])\n",
        "for n, cmap in zip(neurons, cmaps):\n",
        "    plt.contour(*dense_grid, dense_rates[:, n].reshape(50, 50), 2, cmap=cmap)\n",
        "\n",
        "for t in range(num_steps):\n",
        "    # plt.plot(states_x[t:t+2] + 0.5, states_y[t:t+2] + 0.5, \n",
        "    #          '-', marker='.', lw=2, color=Greys(0.5+t/num_steps*0.5))\n",
        "    plt.arrow(states_x[t] + 0.5, states_y[t] + 0.5, \n",
        "              states_x[t+1] - states_x[t], states_y[t+1] - states_y[t],\n",
        "              width=0.1, length_includes_head=True, zorder=3,\n",
        "              lw=0.5, color=Greys(0.5+t/num_steps*0.5))\n",
        "\n",
        "# Plot dummy points for start and stop\n",
        "plt.plot([np.nan], [np.nan], '.', lw=2, color=Greys(0.5), label=\"t=0\")\n",
        "plt.plot([np.nan], [np.nan], '.', lw=2, color='k', label=\"t=10\")\n",
        "plt.legend(loc=\"lower left\", handlelength=1, handletextpad=0.5)\n",
        "\n",
        "# Set the axis limits, etc.\n",
        "ax0.set_aspect(1)\n",
        "plt.xticks(bin_edges)\n",
        "plt.xlim(0, grid_size)\n",
        "plt.xlabel(\"x\")\n",
        "plt.yticks(bin_edges)\n",
        "plt.ylim(0, grid_size)\n",
        "plt.ylabel(\"y\")\n",
        "plt.grid(True)\n",
        "\n",
        "# B. Plot the spike train\n",
        "ax1 = fig.add_subplot(gs[0,1])\n",
        "rng = jr.PRNGKey(0)\n",
        "\n",
        "for n, spks in enumerate(spikes.T):\n",
        "    spk_times = np.repeat(np.arange(10), spks.astype(int))\n",
        "    if len(spk_times) == 0:\n",
        "        continue\n",
        "\n",
        "    this_rng, rng = jr.split(rng, 2)\n",
        "    spk_times = spk_times + jr.uniform(this_rng, (len(spk_times),))\n",
        "\n",
        "    for t in spk_times:\n",
        "        plt.plot([t, t], [n, n+1], '-', color='k', lw=1)\n",
        "\n",
        "# Highlight the rows from panel a\n",
        "for (n, cmap) in zip(neurons, cmaps):\n",
        "    plt.fill_between([0, 10], n, n+1, color=cmap(100), alpha=1)\n",
        "\n",
        "# Set the axis limits, etc.\n",
        "plt.xticks(np.arange(11))\n",
        "plt.grid(axis='x')  \n",
        "plt.xlim(0, 10)\n",
        "plt.ylim(num_neurons, 0)\n",
        "plt.xlabel(\"time\")\n",
        "plt.ylabel(\"neuron\")\n",
        "ax1.set_aspect(.2)\n",
        "\n",
        "# C. Plot the model evidence in bits per spike over null model\n",
        "ax2 = fig.add_subplot(gs[0, 2])\n",
        "to_bps = lambda ll: (ll - null_ll) / num_spikes / np.log(2)\n",
        "plt.bar([0, 1], [to_bps(random_ll), to_bps(diffusion_ll)],\n",
        "        color='lightgray', ec='k', lw=1, alpha=1)\n",
        "\n",
        "plt.ylabel('model evidence \\n [bits/spike over null]')\n",
        "plt.xticks([0, 1], ['random', 'diffusion'], rotation=45)\n",
        "ax2.set_aspect(9)\n",
        "sns.despine(ax=ax2)\n",
        "\n",
        "# Tighten it up and save\n",
        "plt.tight_layout()\n",
        "plt.savefig(\"figure1.pdf\")"
      ],
      "metadata": {
        "colab": {
          "base_uri": "https://localhost:8080/",
          "height": 189
        },
        "id": "ojpB93U6zYIL",
        "outputId": "119b3518-8c20-4926-91c4-31b43b2f278a"
      },
      "execution_count": 7,
      "outputs": [
        {
          "output_type": "display_data",
          "data": {
            "image/png": "[encoded data removed]",
            "text/plain": [
              "<Figure size 468x180 with 3 Axes>"
            ]
          },
          "metadata": {
            "needs_background": "light"
          }
        }
      ]
    }
  ]
}
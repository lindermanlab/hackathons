{
  "nbformat": 4,
  "nbformat_minor": 0,
  "metadata": {
    "colab": {
      "name": "TFP Normal Inverse Wishart (Part 2).ipynb",
      "provenance": [],
      "collapsed_sections": []
    },
    "kernelspec": {
      "name": "python3",
      "display_name": "Python 3"
    },
    "language_info": {
      "name": "python"
    }
  },
  "cells": [
    {
      "cell_type": "markdown",
      "metadata": {
        "id": "eKksHBVieJ-m"
      },
      "source": [
        "# Bayesian inference in a multivariate Gaussian model using natural exponential families and JAX\n",
        "_Scott Linderman_\n",
        "\n",
        "_Nov 18, 2021_\n",
        "\n",
        "---\n",
        "\n",
        "Recall the normal inverse Wishart (NIW) from our [previous post](https://colab.research.google.com/github/lindermanlab/hackathons/blob/master/notebooks/TFP_Normal_Inverse_Wishart.ipynb). It's a conjugate prior for a multivariate Gaussian with unknown mean and covariance, and it is defined by a two-step generative process,\n",
        "\\begin{align}\n",
        "\\Sigma &\\sim \\mathrm{IW}(\\nu, \\Psi) \\\\\n",
        "\\mu \\mid \\Sigma &\\sim \\mathcal{N}(\\mu_0, \\kappa^{-1} \\Sigma)\n",
        "\\end{align}\n",
        "\n",
        "Last time we implemented the NIW distribution using Tensorflow probability's `JointDistribution` and `Bijector` objects. Now we'll use it to perform inference in a simple multivariate normal model. In doing so, we'll demonstrate some nice exponential family distribution concepts that make inference super easy!"
      ]
    },
    {
      "cell_type": "markdown",
      "metadata": {
        "id": "c7RZHBjXGNwJ"
      },
      "source": [
        "## Bayesian inference in a simple Gaussian model\n",
        "\n",
        "Consider a simple Gaussian model,\n",
        "\\begin{align}\n",
        "\\mu, \\Sigma &\\sim \\mathrm{NIW}(\\mu_0, \\kappa, \\nu, \\Psi) \\\\\n",
        "x_n &{\\stackrel{\\text{iid}}{\\sim}} \\mathcal{N}(\\mu, \\Sigma) & \\text{for } n = 1,\\ldots, N\n",
        "\\end{align}\n",
        "The posterior $p(\\mu, \\Sigma \\mid\\{x_n\\}_{n=1}^N)$ is also a NIW (since its a conjugate prior), and its parameters are determined by summing the sufficient statistics of the Gaussian likelihood with the natural parameters of the prior.\n",
        "\n",
        "How do we get the parameters of the NIW posterior? Often, you look it up in a [table on Wikipedia](https://en.wikipedia.org/wiki/Conjugate_prior#When_likelihood_function_is_a_continuous_distribution), but I'm here to tell you there's a better (or at least more general) way. The trick is to cast the prior and likelihood in their natural exponential family form.\n",
        "\n",
        "Let's start by unpacking the NIW prior,\n",
        "\\begin{align}\n",
        "p(\\mu, \\Sigma \\mid \\mu_0, \\kappa, \\nu, \\Psi) &= \\mathrm{IW}(\\Sigma \\mid \\nu, \\Psi) \\, \\mathcal{N}(\\mu \\mid \\mu_0, \\kappa^{-1} \\Sigma) \\\\\n",
        "&\\propto |\\Sigma|^{-(\\nu + D + 1)/2} \\exp\\{-\\tfrac{1}{2} \\mathrm{Tr}(\\Psi \\Sigma^{-1}) \\} \\, \n",
        "|\\kappa^{-1} \\Sigma|^{-1/2} \\exp\\left\\{ -\\tfrac{\\kappa}{2} (\\mu - \\mu_0)^\\top \\Sigma^{-1} (\\mu - \\mu_0)\\right\\} \\\\\n",
        "&\\propto \n",
        "\\exp\\left\\{ \n",
        "    \\langle -\\tfrac{1}{2} \\log |\\Sigma|, \\nu + D + 2 \\rangle\n",
        "    + \\langle \\Sigma^{-1} \\mu, \\kappa \\mu_0 \\rangle \n",
        "    + \\langle -\\tfrac{1}{2} \\Sigma^{-1}, \\Psi + \\kappa \\mu_0\\mu_0^\\top \\rangle \n",
        "    + \\langle -\\tfrac{1}{2}\\mu^\\top \\Sigma^{-1} \\mu, \\kappa \\rangle \n",
        "\\right \\} \\\\\n",
        "&\\propto \n",
        "\\exp \\left\\{ \\sum_{i=1}^4 \\langle \\eta_i, \\chi_i \\rangle \\right \\}\n",
        "\\end{align}\n",
        "Its density is an exponentiated sum of inner products between the **prior sufficient statistics**\n",
        "\\begin{align}\n",
        "\\eta_1 &= -\\tfrac{1}{2} \\log |\\Sigma| \\\\\n",
        "\\eta_2 &=\\Sigma^{-1} \\mu \\\\\n",
        "\\eta_3 &= -\\tfrac{1}{2} \\Sigma^{-1} \\\\\n",
        "\\eta_4 &= -\\tfrac{1}{2} \\mu^\\top \\Sigma^{-1} \\mu\n",
        "\\end{align}\n",
        "and the **natural parameters** \n",
        "\\begin{align}\n",
        "\\chi_1 &= \\nu + D + 2 \\\\\n",
        "\\chi_2 &= \\kappa \\mu_0 \\\\\n",
        "\\chi_3 &= \\Psi + \\kappa  \\mu_0 \\mu_0^\\top \\\\\n",
        "\\chi_4 &= \\kappa\n",
        "\\end{align}\n",
        "\n",
        "Now compare this to the multivariate Gaussian likelihood,\n",
        "\\begin{align}\n",
        "p(x \\mid \\mu, \\Sigma) &=\n",
        "\\frac{1}{(2\\pi)^{D/2}} |\\Sigma|^{-1/2} \n",
        "\\exp\\left\\{ -\\tfrac{1}{2} (x-\\mu)^\\top \\Sigma^{-1} (x-\\mu) \\right\\}\\\\\n",
        "&\\propto\n",
        "\\exp\\left\\{ \n",
        "    \\langle -\\tfrac{1}{2} \\log |\\Sigma|, 1 \\rangle\n",
        "    + \\langle \\Sigma^{-1} \\mu, x \\rangle \n",
        "    + \\langle -\\tfrac{1}{2} \\Sigma^{-1}, xx^\\top \\rangle \n",
        "    + \\langle -\\tfrac{1}{2}\\mu^\\top \\Sigma^{-1} \\mu, 1 \\rangle \n",
        "\\right \\} \\\\\n",
        "&\\propto\n",
        "\\exp\\left\\{ \\sum_{i=1}^4 \\langle \\eta_i, t_i(x) \\rangle \\right \\} \\\\ \n",
        "\\end{align}\n",
        "where\n",
        "\\begin{align}\n",
        "    t_1(x) &= 1 \\\\\n",
        "    t_2(x) &= x \\\\\n",
        "    t_3(x) &= xx^\\top \\\\\n",
        "    t_4(x) &= 1\n",
        "\\end{align}\n",
        "We see the same functional form: an exponentiated sum of inner products where the sufficient statistics of the prior have are the same as the natural parameters of the likelihood. Here, those parameters are weighted by **sufficient statistics of the data** $t_i(x)$. \n",
        "\n",
        "The posterior is proportional to the prior times the likelihood, and since both are now in natural exponential family form, the terms in the exponent simply add up to give,\n",
        "\\begin{align}\n",
        "p(\\mu, \\Sigma \\mid \\{x_n\\}_{n=1}^N, \\mu_0, \\kappa, \\nu, \\Psi) \n",
        "&\\propto \\mathrm{NIW}(\\mu, \\Sigma  \\mid \\mu_0, \\kappa, \\nu, \\Psi) \\, \\prod_{n=1}^N \\mathcal{N}(x_n \\mid \\mu, \\Sigma) \\\\\n",
        "&\\propto \n",
        "\\exp \\left\\{\n",
        "    \\sum_{i=1}^4 \\left \\langle \\eta_i, \\chi_i + \\sum_{n=1}^N t_i(x_n) \\right \\rangle \n",
        "    \\right\\}\n",
        "\\end{align}\n",
        "We recognize this as another NIW distribution but with natural parameters $\\chi_i + \\sum_{n=1}^N t_i(x_n)$. \n",
        "\n",
        "Finally, how do we convert the natural parameters of the posterior into the standard parameters of a NIW distribution? Note that the mapping between natural parameters $(\\chi_1, \\chi_2, \\chi_3, \\chi_4)$ and standard parameters $(\\mu_0, \\kappa, \\nu, \\Psi)$ is invertible. That's because the NIW is a minimal exponential family. We simply have to do a little algebra to convert from one to the other. \n",
        "\n",
        "Let's see it in code!"
      ]
    },
    {
      "cell_type": "code",
      "metadata": {
        "id": "7fOagFdceGT8"
      },
      "source": [
        "import jax.numpy as np\n",
        "import jax.random as jr\n",
        "from jax import vmap\n",
        "from jax.tree_util import tree_map\n",
        "import tensorflow_probability.substrates.jax as tfp\n",
        "import matplotlib.pyplot as plt\n",
        "from functools import partial\n",
        "\n",
        "tfd = tfp.distributions\n",
        "tfb = tfp.bijectors"
      ],
      "execution_count": 1,
      "outputs": []
    },
    {
      "cell_type": "markdown",
      "metadata": {
        "id": "ks8qOYI4GsBJ"
      },
      "source": [
        "## Implementing the `NormalInverseWishart` distribution with some exponential family helpers\n",
        "Let's start by copying our `NormalInverseWishart` distribution object from the [previous post](). We'll add two helper functions:\n",
        "- `natural_parameters`: a property that converts the standard parameters to the natural parameters and returns them as a tuple.\n",
        "- `from_natural_parameters`: a class method that constructs a `NormalInverseWishart` object using its natural parameters."
      ]
    },
    {
      "cell_type": "code",
      "metadata": {
        "id": "fZj6sxYxH-D9"
      },
      "source": [
        "class NormalInverseWishart(tfd.JointDistributionNamed):\n",
        "    def __init__(self, loc, mean_precision, df, scale, **kwargs):\n",
        "        \"\"\"\n",
        "        A normal inverse Wishart (NIW) distribution with\n",
        "\n",
        "        Args:\n",
        "            loc:            \\mu_0 in math above\n",
        "            mean_precision: \\kappa_0 \n",
        "            df:             \\nu\n",
        "            scale:          \\Psi \n",
        "\n",
        "        Returns: \n",
        "            A tfp.JointDistribution object.\n",
        "        \"\"\"\n",
        "        # Store hyperparameters. \n",
        "        self._loc = loc\n",
        "        self._mean_precision = mean_precision\n",
        "        self._df = df\n",
        "        self._scale = scale\n",
        "        \n",
        "        # Convert the inverse Wishart scale to the scale_tril of a Wishart.\n",
        "        # Note: this could be done more efficiently.\n",
        "        self.wishart_scale_tril = np.linalg.cholesky(np.linalg.inv(scale))\n",
        "\n",
        "        super(NormalInverseWishart, self).__init__(dict(\n",
        "            Sigma=lambda: tfd.TransformedDistribution(\n",
        "                tfd.WishartTriL(df, scale_tril=self.wishart_scale_tril),\n",
        "                tfb.Chain([tfb.CholeskyOuterProduct(),                 \n",
        "                        tfb.CholeskyToInvCholesky(),                \n",
        "                        tfb.Invert(tfb.CholeskyOuterProduct())\n",
        "                        ])),\n",
        "            mu=lambda Sigma: tfd.MultivariateNormalFullCovariance(\n",
        "                loc, Sigma / mean_precision)\n",
        "        ))\n",
        "\n",
        "        # Replace the default JointDistributionNamed parameters with the NIW ones\n",
        "        # because the JointDistributionNamed parameters contain lambda functions,\n",
        "        # which are not jittable.\n",
        "        self._parameters = dict(\n",
        "            loc=loc,\n",
        "            mean_precision=mean_precision,\n",
        "            df=df,\n",
        "            scale=scale\n",
        "        )\n",
        "\n",
        "    # These functions compute the pseudo-observations implied by the NIW prior\n",
        "    # and convert sufficient statistics to a NIW posterior. We'll describe them\n",
        "    # in more detail below.\n",
        "    @property\n",
        "    def natural_parameters(self):\n",
        "        \"\"\"Compute pseudo-observations from standard NIW parameters.\"\"\"\n",
        "        dim = self._loc.shape[-1]\n",
        "        chi_1 = self._df + dim + 2\n",
        "        chi_2 = np.einsum('...,...i->...i', self._mean_precision, self._loc)\n",
        "        chi_3 = self._scale + self._mean_precision * \\\n",
        "            np.einsum(\"...i,...j->...ij\", self._loc, self._loc)\n",
        "        chi_4 = self._mean_precision\n",
        "        return chi_1, chi_2, chi_3, chi_4\n",
        "\n",
        "    @classmethod\n",
        "    def from_natural_parameters(cls, natural_params):\n",
        "        \"\"\"Convert natural parameters into standard parameters and construct.\"\"\"\n",
        "        chi_1, chi_2, chi_3, chi_4 = natural_params\n",
        "        dim = chi_2.shape[-1]\n",
        "        df = chi_1 - dim - 2\n",
        "        mean_precision = chi_4\n",
        "        loc = np.einsum('..., ...i->...i', 1 / mean_precision, chi_2)\n",
        "        scale = chi_3 - mean_precision * np.einsum('...i,...j->...ij', loc, loc)\n",
        "        return cls(loc, mean_precision, df, scale)\n",
        "\n",
        "    def _mode(self):\n",
        "        r\"\"\"Solve for the mode. Recall,\n",
        "        .. math::\n",
        "            p(\\mu, \\Sigma) \\propto\n",
        "                \\mathrm{N}(\\mu | \\mu_0, \\Sigma / \\kappa_0) \\times\n",
        "                \\mathrm{IW}(\\Sigma | \\nu_0, \\Psi_0)\n",
        "        The optimal mean is :math:`\\mu^* = \\mu_0`. Substituting this in,\n",
        "        .. math::\n",
        "            p(\\mu^*, \\Sigma) \\propto IW(\\Sigma | \\nu_0 + 1, \\Psi_0)\n",
        "        and the mode of this inverse Wishart distribution is at\n",
        "        .. math::\n",
        "            \\Sigma^* = \\Psi_0 / (\\nu_0 + d + 2)\n",
        "        \"\"\"\n",
        "        dim = self._loc.shape[-1]\n",
        "        covariance = np.einsum(\"...,...ij->...ij\", \n",
        "                               1 / (self._df + dim + 2), self._scale)\n",
        "        return self._loc, covariance\n"
      ],
      "execution_count": 2,
      "outputs": []
    },
    {
      "cell_type": "markdown",
      "metadata": {
        "id": "kRXysGYRYMsJ"
      },
      "source": [
        "## Wrapping the MultivariateNormal with exponential family helpers"
      ]
    },
    {
      "cell_type": "code",
      "metadata": {
        "id": "FckfceiPYQ0f"
      },
      "source": [
        "class MultivariateNormalFullCovariance(tfd.MultivariateNormalFullCovariance):\n",
        "    \"\"\"\n",
        "    This wrapper adds simple functions to get sufficient statistics and \n",
        "    construct a MultivariateNormalFullCovariance from parameters drawn\n",
        "    from the normal inverse Wishart distribution.\n",
        "    \"\"\"\n",
        "    @classmethod\n",
        "    def from_parameters(cls, params, **kwargs):\n",
        "        return cls(*params, **kwargs)\n",
        "\n",
        "    @staticmethod\n",
        "    def sufficient_statistics(datapoint):\n",
        "        return (1.0, datapoint, np.outer(datapoint, datapoint), 1.0)\n"
      ],
      "execution_count": 3,
      "outputs": []
    },
    {
      "cell_type": "markdown",
      "metadata": {
        "id": "Vub5ttfEYRNq"
      },
      "source": [
        "## Sample some data"
      ]
    },
    {
      "cell_type": "code",
      "metadata": {
        "colab": {
          "base_uri": "https://localhost:8080/"
        },
        "id": "-ijPDBiIMBkI",
        "outputId": "3371c7cf-0fb0-460f-d646-5618076f329b"
      },
      "source": [
        "# Sample the generative model.\n",
        "num_datapoints = 100\n",
        "dim = 2\n",
        "params = dict(\n",
        "    loc=np.zeros(dim),\n",
        "    mean_precision=1.0,\n",
        "    df=dim + 3,\n",
        "    scale=np.eye(dim)\n",
        ")\n",
        "\n",
        "seed1, seed2 = jr.split(jr.PRNGKey(0), 2)\n",
        "niw = NormalInverseWishart(**params)\n",
        "smpl = niw.sample(seed=seed1)\n",
        "mvn = tfd.MultivariateNormalFullCovariance(smpl[\"mu\"], smpl[\"Sigma\"])\n",
        "data = mvn.sample(seed=seed2, sample_shape=(num_datapoints,))"
      ],
      "execution_count": 4,
      "outputs": [
        {
          "output_type": "stream",
          "name": "stderr",
          "text": [
            "WARNING:absl:No GPU/TPU found, falling back to CPU. (Set TF_CPP_MIN_LOG_LEVEL=0 and rerun for more info.)\n"
          ]
        }
      ]
    },
    {
      "cell_type": "markdown",
      "metadata": {
        "id": "yicvKuDIH8Yh"
      },
      "source": [
        "## This is where the magic happens\n",
        "JAX makes it extremely easy to be Bayesian. Collecting sufficient statistics and summing them up is a simple application of `vmap` and `tree_map`. The result is just so clean!"
      ]
    },
    {
      "cell_type": "code",
      "metadata": {
        "id": "MTdu65sfHdDO"
      },
      "source": [
        "# Collect sufficient statistics from each data point and sum them up.\n",
        "stats = tree_map(\n",
        "    partial(np.sum, axis=0), \n",
        "    vmap(MultivariateNormalFullCovariance.sufficient_statistics)(data))\n",
        "\n",
        "# Add the natural parameters of the prior.\n",
        "stats = tree_map(np.add, stats, niw.natural_parameters)\n",
        "    \n",
        "# Compute the posterior distribution over parameters\n",
        "posterior = NormalInverseWishart.from_natural_parameters(stats)"
      ],
      "execution_count": 5,
      "outputs": []
    },
    {
      "cell_type": "markdown",
      "metadata": {
        "id": "EYnWWfhG4wjE"
      },
      "source": [
        "Now we'll sample the posterior multiple times to collect multiple samples of the mean and covariance, $\\{\\mu_j, \\Sigma_j\\}_{j=1}^J$. We'll plot the conditional distribution $p(x \\mid \\mu_j, \\Sigma_j)$ for each sample to get a sense for how much uncertainty there is in the Gaussian distribution given the data."
      ]
    },
    {
      "cell_type": "code",
      "metadata": {
        "colab": {
          "base_uri": "https://localhost:8080/",
          "height": 243
        },
        "id": "Ko68lsGax2BG",
        "outputId": "677d2437-f5d2-492e-c4db-20db43da04bc"
      },
      "source": [
        "# Draw samples of (\\mu, \\Sigma) from the posterior and plot the contours \n",
        "# of p(x \\mid \\mu, \\Sigma) for each one.\n",
        "n_samples = 5\n",
        "seed = jr.PRNGKey(0)\n",
        "\n",
        "n_pts = 50\n",
        "x1s, x2s = np.meshgrid(\n",
        "    np.linspace(-4, 4, n_pts),\n",
        "    np.linspace(-4, 4, n_pts)\n",
        ")\n",
        "\n",
        "fig, axs = plt.subplots(1, n_samples, figsize=(n_samples * 3, 3), sharey=True)\n",
        "for i, ax in enumerate(axs):\n",
        "    seed, this_seed = jr.split(seed, 2)\n",
        "    smpl = posterior.sample(seed=this_seed)\n",
        "    mvn = tfd.MultivariateNormalFullCovariance(smpl[\"mu\"], smpl[\"Sigma\"])\n",
        "    lps = mvn.log_prob(np.column_stack([x1s.ravel(), x2s.ravel()]))\n",
        "    \n",
        "    ax.contourf(x1s, x2s, lps.reshape(n_pts, n_pts), 25)\n",
        "    ax.plot(data[:, 0], data[:, 1], 'wo', ms=4, mec='k', alpha=0.5)\n",
        "    ax.set_xlabel(\"$x_1$\")\n",
        "    if i == 0: ax.set_ylabel(\"$x_2$\")\n",
        "    ax.set_title(\"sample {}\".format(i+1))"
      ],
      "execution_count": 6,
      "outputs": [
        {
          "output_type": "display_data",
          "data": {
            "image/png": "[encoded data removed]",
            "text/plain": [
              "<Figure size 1080x216 with 5 Axes>"
            ]
          },
          "metadata": {
            "needs_background": "light"
          }
        }
      ]
    },
    {
      "cell_type": "markdown",
      "metadata": {
        "id": "8WPS69ZgZeCB"
      },
      "source": [
        "## Maximum a posteriori (MAP) estimation\n",
        "\n",
        "Since we implemented the `_mode` function for `NormalInverseWishart` we can get the MAP estimate of the parameters by simpling using `posterior.mode()`. \n",
        "\n",
        "Note that the MAP estimate should have slightly smaller mean and covariance that the MLE due to the influence of the prior."
      ]
    },
    {
      "cell_type": "code",
      "metadata": {
        "colab": {
          "base_uri": "https://localhost:8080/"
        },
        "id": "TOVYaCElZcIY",
        "outputId": "a28f9832-381f-4f4c-8705-4226661d3992"
      },
      "source": [
        "# Get the maximum a posteriori estimate of the multivariate normal\n",
        "mvn_map_estimate = \\\n",
        "    MultivariateNormalFullCovariance.from_parameters(posterior.mode())\n",
        "\n",
        "print(\"True mean:\\n\", mvn.mean().round(2))\n",
        "print(\"MAP mean:\\n\", mvn_map_estimate.mean().round(2))\n",
        "print(\"Empirical mean:\\n\", data.mean(axis=0).round(2))\n",
        "print(\"\\n\")\n",
        "print(\"True covariance:\\n\", mvn.covariance().round(2))\n",
        "print(\"MAP covariance:\\n\", mvn_map_estimate.covariance().round(2))\n",
        "print(\"Empirical covariance:\\n\", np.cov(data, rowvar=False).round(2))"
      ],
      "execution_count": 8,
      "outputs": [
        {
          "output_type": "stream",
          "name": "stdout",
          "text": [
            "True mean:\n",
            " [-0.17       -0.35999998]\n",
            "MAP mean:\n",
            " [-0.21 -0.44]\n",
            "Empirical mean:\n",
            " [-0.22 -0.45]\n",
            "\n",
            "\n",
            "True covariance:\n",
            " [[0.26999998 0.14      ]\n",
            " [0.14       0.34      ]]\n",
            "MAP covariance:\n",
            " [[0.19999999 0.08      ]\n",
            " [0.08       0.29999998]]\n",
            "Empirical covariance:\n",
            " [[0.21 0.09]\n",
            " [0.09 0.32]]\n"
          ]
        }
      ]
    },
    {
      "cell_type": "markdown",
      "metadata": {
        "id": "Sb-6RKgiz4iS"
      },
      "source": [
        "## Conclusion\n",
        "\n",
        "Tensorflow probability offers lots of great tools for building probabilistic models. In general, their library of distributions is top notch! One omission is the normal inverse Wishart distribution, an important conjugate prior for multivariate Gaussian models. This notebook implements it as a `JointDistribution` and shows how to cast the multivariate normal and NIW in their natural exponential family form, where Bayesian inference is as simple as summing sufficient statistics and converting between natural and standard parameters. \n",
        "\n",
        "If you want to dig deeper, think about how you would implement the [matrix normal](https://en.wikipedia.org/wiki/Matrix_normal_distribution) inverse Wishart (MNIW) using the TFP [`MatrixNormalLinearOperator`](https://www.tensorflow.org/probability/api_docs/python/tfp/distributions/MatrixNormalLinearOperator) object. It's the conjugate prior for a Bayesian linear regression. What are its natural parameters and how do they compare to those of the NIW distribution?"
      ]
    }
  ]
}
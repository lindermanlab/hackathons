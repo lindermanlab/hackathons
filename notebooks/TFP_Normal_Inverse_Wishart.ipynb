{
  "nbformat": 4,
  "nbformat_minor": 0,
  "metadata": {
    "colab": {
      "name": "TFP Normal Inverse Wishart.ipynb",
      "provenance": [],
      "collapsed_sections": []
    },
    "kernelspec": {
      "name": "python3",
      "display_name": "Python 3"
    },
    "language_info": {
      "name": "python"
    }
  },
  "cells": [
    {
      "cell_type": "markdown",
      "metadata": {
        "id": "eKksHBVieJ-m"
      },
      "source": [
        "# Implementing a Normal Inverse Wishart Distribution in Tensorflow Probability\n",
        "_Scott Linderman_\n",
        "\n",
        "_Oct 27, 2021_\n",
        "\n",
        "---\n",
        "\n",
        "The normal inverse Wishart (NIW) is a conjugate prior for a multivariate Gaussian with unknown mean and covariance. Specifically, it's a joint distribution on a vector $\\mu \\in \\mathbb{R}^D$ and a positive semi-definite matrix $\\Sigma \\in \\mathbb{R}_{\\succeq 0}^{D \\times D}$ defined by the following generative model,\n",
        "\\begin{align}\n",
        "\\Sigma &\\sim \\mathrm{IW}(\\nu, \\Psi) \\\\\n",
        "\\mu \\mid \\Sigma &\\sim \\mathcal{N}(\\mu_0, \\kappa^{-1} \\Sigma)\n",
        "\\end{align}\n",
        "The NIW is parameterized by the degrees of freedom $\\nu$, a scale matrix $\\Psi$, a location $\\mu_0$, and a scaling parameter $\\kappa$ that I'll call the \"mean precision.\"\n",
        "Unfortunately, tensorflow probability (TFP) doesn't have a premade NIW distribution and implementing it was a bit of a pain... this notebook shows how I ended up doing it.\n"
      ]
    },
    {
      "cell_type": "markdown",
      "metadata": {
        "id": "7S3OTu4E1-ka"
      },
      "source": [
        "## Take 1\n",
        "\n",
        "TFP's `JointDistribution` objects seem well suited to this problem. I originally hoped implementing an NIW would be as simple as,\n",
        "```\n",
        "niw = tfd.JointDistributionNamed(dict(\n",
        "    Sigma=lambda: tfd.InverseWishart(df, scale), \n",
        "    mu=lambda Sigma: tfd.MultivariateNormalFullCovariance(loc, Sigma / mean_precision)\n",
        "))\n",
        "```\n",
        "Unfortunately, TFP doesn't have an `InverseWishart` distribution... \n",
        "\n",
        "## Take 2\n",
        "No problem, we'll just specify the inverse Wishart as a `TransformedDistribution` that wraps the `WishartTriL` distribution... something like,\n",
        "```\n",
        "niw = tfd.JointDistributionNamed(dict(\n",
        "    Sigma=lambda: tfd.TransformedDistribution(\n",
        "        tfd.WishartTriL(df, np.linalg.cholesky(np.linalg.inv(scale))),\n",
        "        bijector=tfb.MatrixInverse()), \n",
        "    mu=lambda Sigma: tfd.MultivariateNormalFullCovariance(loc, Sigma / mean_precision)\n",
        "))\n",
        "```\n",
        "That leads to the second problem: TFP doesn't have a `MatrixInverse` bijector.\n",
        "\n",
        "## Take 3\n",
        "TFP does, however, have a `ChokeskyToInvCholesky` bijector, which maps $L=\\mathrm{chol}(X)$ to $L' = \\mathrm{chol}(X^{-1})$, and a `CholeskyOuterProduct` bijector that maps a lower triangular matrix $L$ to $LL^\\top = X$. So here's the workaround I arrived at: invert the (positive semidefinite) matrix $J$ output by the Wishart distribution by chaining three bijectors:\n",
        "1. $J \\mapsto \\mathrm{chol}(J)$ with `Cholesky?`           \n",
        "2. $\\mathrm{chol}(J) \\mapsto \\mathrm{chol}(J^{-1})$ with `CholeskyToInvCholesky`\n",
        "2. $\\mathrm{chol}(J^{-1}) \\mapsto \\mathrm{chol}(J^{-1}) \\mathrm{chol}(J^{-1})^\\top = J^{-1} \\equiv \\Sigma$ with `CholeskyOuterProduct`.\n",
        "\n",
        "That would look like,\n",
        "```\n",
        "niw = tfd.JointDistributionNamed(dict(\n",
        "    Sigma=lambda: tfd.TransformedDistribution(\n",
        "        tfd.WishartTriL(df, np.linalg.cholesky(np.linalg.inv(scale))),\n",
        "        bijector=tfb.Chain([\n",
        "            tfb.CholeskyOuterProduct(),\n",
        "            tfb.CholeskyToInvCholesky(),\n",
        "            tfb.Cholesky()])), \n",
        "    mu=lambda Sigma: tfd.MultivariateNormalFullCovariance(loc, Sigma / mean_precision)\n",
        "))\n",
        "```\n",
        "But TFP doesn't have a `Cholesky` bijector... \n",
        "\n",
        "## Final Take\n",
        "Thankfully, the Cholesky bijector is just the inverse of the `CholeskyOuterProduct` bijector, and we can use `tfb.Invert(tfb.CholeskyOuterProduct())` to get it.\n",
        "\n",
        "The code below puts all of this together. I'm sure there are other implementations. For example, the TFP [Bayesian GMM example](https://github.com/tensorflow/probability/blob/main/tensorflow_probability/examples/jupyter_notebooks/Bayesian_Gaussian_Mixture_Model.ipynb) defines a new multivariate normal distribution parameterized by the square root of the inverse covariance (aka precision) matrix. That's probably a bit more efficient since it doesn't have so many conversions to/from Cholesky decompositions. Personally, I prefer the approach below because it outputs a distribution on $(\\mu, \\Sigma)$, as the NIW is typically specified.\n",
        "\n"
      ]
    },
    {
      "cell_type": "code",
      "metadata": {
        "id": "7fOagFdceGT8"
      },
      "source": [
        "import jax.numpy as np\n",
        "import jax.random as jr\n",
        "from jax import vmap\n",
        "from jax.tree_util import tree_map\n",
        "import tensorflow_probability.substrates.jax as tfp\n",
        "import matplotlib.pyplot as plt\n",
        "from functools import partial\n",
        "\n",
        "tfd = tfp.distributions\n",
        "tfb = tfp.bijectors"
      ],
      "execution_count": 1,
      "outputs": []
    },
    {
      "cell_type": "code",
      "metadata": {
        "id": "fZj6sxYxH-D9"
      },
      "source": [
        "class NormalInverseWishart(tfd.JointDistributionNamed):\n",
        "    def __init__(self, loc, mean_precision, df, scale, **kwargs):\n",
        "        \"\"\"\n",
        "        A normal inverse Wishart (NIW) distribution with\n",
        "\n",
        "        Args:\n",
        "            loc:            \\mu_0 in math above\n",
        "            mean_precision: \\kappa_0 \n",
        "            df:             \\nu\n",
        "            scale:          \\Psi \n",
        "\n",
        "        Returns: \n",
        "            A tfp.JointDistribution object.\n",
        "        \"\"\"\n",
        "        # Store hyperparameters. \n",
        "        # Note: these should really be private.\n",
        "        self.loc = loc\n",
        "        self.mean_precision = mean_precision\n",
        "        self.df = df\n",
        "        self.scale = scale\n",
        "        \n",
        "        # Convert the inverse Wishart scale to the scale_tril of a Wishart.\n",
        "        # Note: this could be done more efficiently.\n",
        "        self.wishart_scale_tril = np.linalg.cholesky(np.linalg.inv(scale))\n",
        "\n",
        "        super(NormalInverseWishart, self).__init__(dict(\n",
        "            Sigma=lambda: tfd.TransformedDistribution(\n",
        "                tfd.WishartTriL(df, scale_tril=self.wishart_scale_tril),\n",
        "                tfb.Chain([tfb.CholeskyOuterProduct(),                 \n",
        "                           tfb.CholeskyToInvCholesky(),                \n",
        "                           tfb.Invert(tfb.CholeskyOuterProduct())\n",
        "                           ])\n",
        "                ),\n",
        "            mu=lambda Sigma: tfd.MultivariateNormalFullCovariance(\n",
        "                loc, Sigma / mean_precision)\n",
        "        ))"
      ],
      "execution_count": 2,
      "outputs": []
    },
    {
      "cell_type": "code",
      "metadata": {
        "colab": {
          "base_uri": "https://localhost:8080/"
        },
        "id": "mFhRtfa7qzTU",
        "outputId": "8a823cbe-3564-45e1-d855-6916b92248d2"
      },
      "source": [
        "# Set hyperparameters.\n",
        "dim = 3\n",
        "params = dict(\n",
        "    loc=np.zeros(dim),\n",
        "    mean_precision=1.0,\n",
        "    df=dim + 3,\n",
        "    scale=np.eye(dim)\n",
        ")\n",
        "\n",
        "# Make the distribution object and sample it.\n",
        "niw = NormalInverseWishart(**params)\n",
        "smpl = niw.sample(seed=jr.PRNGKey(0))\n",
        "print(smpl)"
      ],
      "execution_count": 3,
      "outputs": [
        {
          "output_type": "stream",
          "name": "stderr",
          "text": [
            "WARNING:absl:No GPU/TPU found, falling back to CPU. (Set TF_CPP_MIN_LOG_LEVEL=0 and rerun for more info.)\n"
          ]
        },
        {
          "output_type": "stream",
          "name": "stdout",
          "text": [
            "{'Sigma': DeviceArray([[ 0.39998385, -0.08702334, -0.01624717],\n",
            "             [-0.08702334,  0.28204948, -0.0854842 ],\n",
            "             [-0.01624717, -0.0854842 ,  0.18808396]], dtype=float32), 'mu': DeviceArray([0.47917017, 0.43772495, 0.16959237], dtype=float32)}\n"
          ]
        }
      ]
    },
    {
      "cell_type": "markdown",
      "metadata": {
        "id": "_6UHLVM6v_zk"
      },
      "source": [
        "## Double check the log probability\n",
        "(by comparing to scipy.stats)"
      ]
    },
    {
      "cell_type": "code",
      "metadata": {
        "id": "h1NNO6DejiRH"
      },
      "source": [
        "def manual_niw_log_prob(mu, Sigma, loc, mean_precision, df, scale):\n",
        "    \"\"\"\n",
        "    Evaluate the NIW log prob using scipy.stats functions\n",
        "    \"\"\"\n",
        "    from scipy.stats import invwishart\n",
        "    from scipy.stats import multivariate_normal as mvn\n",
        "\n",
        "    lp = invwishart.logpdf(Sigma, df, scale)\n",
        "    lp += mvn.logpdf(mu, loc, Sigma / mean_precision)\n",
        "    return lp\n",
        "\n",
        "manual_niw_log_prob(**smpl, **params)\n",
        "assert np.allclose(niw.log_prob(smpl), manual_niw_log_prob(**smpl, **params))"
      ],
      "execution_count": 4,
      "outputs": []
    },
    {
      "cell_type": "markdown",
      "metadata": {
        "id": "3dEOKovT9ThY"
      },
      "source": [
        "## Plot the log probability density for the 1D case\n",
        "\n",
        "In the one-dimensional case, the NIW reduces to a normal inverse chi-squared distribution or the normal inverse gamma distribution (one is a repameterization of other) on $(\\mu, \\sigma^2)$ where $\\Sigma = [[\\sigma^2]]$. "
      ]
    },
    {
      "cell_type": "code",
      "metadata": {
        "colab": {
          "base_uri": "https://localhost:8080/",
          "height": 318
        },
        "id": "4x9JH2Up9qLg",
        "outputId": "81bea076-6014-4c57-fb65-ce7bd1761411"
      },
      "source": [
        "# Make a 1D NIW distribution.\n",
        "dim = 1\n",
        "params = dict(\n",
        "    loc=np.zeros(dim),\n",
        "    mean_precision=1.0,\n",
        "    df=dim + 2,\n",
        "    scale=np.eye(dim)\n",
        ")\n",
        "niw = NormalInverseWishart(**params)\n",
        "\n",
        "# Evaluate the log prob at a grid of points.\n",
        "n_pts = 50\n",
        "mus, sigmasqs = np.meshgrid(\n",
        "    np.linspace(-4, 4, n_pts),\n",
        "    np.linspace(0.1, 3, n_pts)\n",
        ")\n",
        "\n",
        "lps = niw.log_prob(dict(mu=mus.reshape(-1, 1), \n",
        "                        Sigma=sigmasqs.reshape(-1, 1, 1)))\n",
        "\n",
        "# Plot the log density.\n",
        "plt.contourf(mus, sigmasqs, lps.reshape(n_pts, n_pts), 50)\n",
        "plt.xlabel(\"$\\\\mu$\")\n",
        "plt.ylabel(\"$\\\\sigma^2$\")\n",
        "plt.title(r\"NIW$(\\mu, \\sigma^2 \\mid \\mu_0={loc}, \"\n",
        "          r\"\\kappa={mean_precision}, \\nu={df}, \\Psi={scale})$\".format(**params))\n",
        "plt.colorbar(label=\"log probability\")"
      ],
      "execution_count": 5,
      "outputs": [
        {
          "output_type": "execute_result",
          "data": {
            "text/plain": [
              "<matplotlib.colorbar.Colorbar at 0x7fc141798f10>"
            ]
          },
          "metadata": {},
          "execution_count": 5
        },
        {
          "output_type": "display_data",
          "data": {
            "image/png": "[encoded data removed]",
            "text/plain": [
              "<Figure size 432x288 with 2 Axes>"
            ]
          },
          "metadata": {
            "needs_background": "light"
          }
        }
      ]
    },
    {
      "cell_type": "markdown",
      "metadata": {
        "id": "Sb-6RKgiz4iS"
      },
      "source": [
        "## Conclusion\n",
        "\n",
        "Tensorflow probability offers lots of great tools for building probabilistic models. In general, their library of distributions is top notch! One glaring omission is the normal inverse Wishart distribution, an important conjugate prior for multivariate Gaussian models. This notebook implements it as a `JointDistribution` and, along the way, introduces lots of cool `Bijector`'s for converting Wishart samples into inverse Wishart samples. \n",
        "\n",
        "In the next post, we'll extend this NIW distribution with some helpful exponential family properties that will make Bayesian inference super easy!\n"
      ]
    }
  ]
}
{
  "nbformat": 4,
  "nbformat_minor": 0,
  "metadata": {
    "colab": {
      "name": "Random Walk MH.ipynb",
      "provenance": [],
      "collapsed_sections": [],
      "authorship_tag": "ABX9TyNzhpQW4FtYl/7grKukni0N",
      "include_colab_link": true
    },
    "kernelspec": {
      "name": "python3",
      "display_name": "Python 3"
    }
  },
  "cells": [
    {
      "cell_type": "markdown",
      "metadata": {
        "id": "view-in-github",
        "colab_type": "text"
      },
      "source": [
        "<a href=\"https://colab.research.google.com/github/lindermanlab/hackathons/blob/master/Random_Walk_MH.ipynb\" target=\"_parent\"><img src=\"https://colab.research.google.com/assets/colab-badge.svg\" alt=\"Open In Colab\"/></a>"
      ]
    },
    {
      "cell_type": "markdown",
      "metadata": {
        "id": "1RwOO9E3Bdrf"
      },
      "source": [
        "# Understanding with Random-Walk Metropolis-Hasting\n",
        "\n",
        "Suppose we are designing a random walk Metropolis-Hastings algorithm to sample a target distribution.  What variance should we give to our proposal distribution?\n",
        "\n",
        "To understand this better, let's consider a simple multivariate Gaussian example.  Our target is the standard Normal,\n",
        "\\begin{align}\n",
        "p(x) &= \\mathcal{N}(0, I),\n",
        "\\end{align}\n",
        "and our Metropolis-Hastings proposal is another spherical Gaussian parameterized by a variance $\\sigma^2$,\n",
        "\\begin{align}\n",
        "q(x' \\mid x) &= \\mathcal{N}(x, \\sigma^2 I).\n",
        "\\end{align}\n",
        "Obviously this is _not_ a problem where you would invoke MCMC, but it's still a useful toy problem for thinking about how to set $\\sigma^2$ in order to optimize the Markov chain.\n",
        "\n",
        "Specifically, suppose we want to approximate the expectation $\\mathbb{E}_p[f(x)]$ with Markov chain Monte Carlo estimate,\n",
        "\\begin{align}\n",
        "\\hat{f}_N &= \\frac{1}{N} \\sum_{n=1}^N f(X_n) \\\\\n",
        "X_1 &\\sim p \\\\\n",
        "X_n \\mid X_{n-1} &\\sim T(\\cdot \\mid X_{n-1})\n",
        "\\end{align}\n",
        "where\n",
        "\\begin{align}\n",
        "p_{T}(x_n \\mid x_{n-1}) &= q(x_n \\mid x_{n-1}) \\cdot a(x_n \\mid x_{n-1}),\n",
        "\\end{align}\n",
        "where $a$ denotes the probability of accepting a move from $X_{n-1} = x_{n-1}$ to $X_n = x_n$.\n",
        "\n",
        "For this model, the acceptance probability is,\n",
        "\\begin{align}\n",
        "a(x_n \\mid x_{n-1}) \n",
        "&= \\min \\left( 1, \\frac{p(x_n)q(x_{n-1} \\mid x_n)}{p(x_{n-1}) q(x_n \\mid x_{n-1})} \\right) \\\\\n",
        "&= \\min \\left( 1, \\frac{\\mathcal{N}(x_n; 0, I)) \\mathcal{N}(x_{n-1} \\mid x_n, \\sigma^2 I)}{\\mathcal{N}(x_{n-1}; 0, I) \\mathcal{N}(x_n \\mid x_{n-1}, \\sigma^2 I)} \\right) \\\\\n",
        "&= \\min \\left( 1, \\frac{\\mathcal{N}(x_n; 0, I)}{\\mathcal{N}(x_{n-1}; 0, I)} \\right) \\\\\n",
        "&= \\min \\left( 1, \\frac{\\exp \\{-\\frac{1}{2} x_n^\\top x_n \\}}{\\exp \\{-\\frac{1}{2} x_{n-1}^\\top x_{n-1} \\} } \\right) \\\\\n",
        "&= \\min \\left( 1, \\exp \\{-\\tfrac{1}{2} (x_n^\\top x_n - x_{n-1}^\\top x_{n-1}) \\} \\right) \\\\\n",
        "&= \\min \\left( 1, \\exp \\{-\\tfrac{1}{2} (\\|x_n\\|_2^2 - \\|x_{n-1}\\|_2^2) \\} \\right)\n",
        "\\end{align}\n",
        "So we always accept proposals if $\\|x_n\\|_2^2 - \\|x_{n-1}\\|_2^2 < 0$.  The physical intuition is to recognize $\\|x_n\\|_2^2$ as the _energy_ of the system, so we always accept moves that decrease the energy, but we only sometimes accept moves that increase it.  The acceptance probability is proportional to the exponentiated change in energy.\n",
        "\n",
        "As we discuss below, we want to tune $\\sigma^2$ such that the samples of this Markov chain yield the lowest variance estimates of some expectation of interest. "
      ]
    },
    {
      "cell_type": "code",
      "metadata": {
        "id": "yOYatTK0XheB",
        "outputId": "fbac6514-a46a-4005-a8d9-4a8a6baa4102",
        "colab": {
          "base_uri": "https://localhost:8080/",
          "height": 226
        }
      },
      "source": [
        "!pip install tfp-nightly"
      ],
      "execution_count": 33,
      "outputs": [
        {
          "output_type": "stream",
          "text": [
            "Collecting tfp-nightly\n",
            "\u001b[?25l  Downloading https://files.pythonhosted.org/packages/27/91/631e9dc30ca68ceeb178f5dcaeb76f6c6f8bb06ffeffd171ad50898e31ba/tfp_nightly-0.12.0.dev20201016-py2.py3-none-any.whl (4.5MB)\n",
            "\u001b[K     |████████████████████████████████| 4.5MB 2.7MB/s \n",
            "\u001b[?25hRequirement already satisfied: gast>=0.3.2 in /usr/local/lib/python3.6/dist-packages (from tfp-nightly) (0.3.3)\n",
            "Requirement already satisfied: numpy>=1.13.3 in /usr/local/lib/python3.6/dist-packages (from tfp-nightly) (1.18.5)\n",
            "Requirement already satisfied: cloudpickle>=1.3 in /usr/local/lib/python3.6/dist-packages (from tfp-nightly) (1.3.0)\n",
            "Requirement already satisfied: decorator in /usr/local/lib/python3.6/dist-packages (from tfp-nightly) (4.4.2)\n",
            "Requirement already satisfied: dm-tree in /usr/local/lib/python3.6/dist-packages (from tfp-nightly) (0.1.5)\n",
            "Requirement already satisfied: six>=1.10.0 in /usr/local/lib/python3.6/dist-packages (from tfp-nightly) (1.15.0)\n",
            "Installing collected packages: tfp-nightly\n",
            "Successfully installed tfp-nightly-0.12.0.dev20201016\n"
          ],
          "name": "stdout"
        }
      ]
    },
    {
      "cell_type": "code",
      "metadata": {
        "id": "saMGyDfCBZob"
      },
      "source": [
        "import jax.numpy as np\n",
        "import jax.random\n",
        "from jax import lax, jit\n",
        "from functools import partial\n",
        "import tensorflow_probability.substrates.jax.distributions as dists\n",
        "import matplotlib.pyplot as plt"
      ],
      "execution_count": 7,
      "outputs": []
    },
    {
      "cell_type": "code",
      "metadata": {
        "id": "P0PGNyn2KKqI"
      },
      "source": [
        "def _run_mcmc(rng, proposal_variance, num_steps=100, dim=2):\n",
        "    \"\"\"\n",
        "    Run the random walk MH algorithm with specified random key,\n",
        "    proposal variance, number of MCMC steps, and problem dimensionality.\n",
        "    \"\"\"\n",
        "    # first sample initial distribution\n",
        "    p = dists.MultivariateNormalDiag(loc=np.zeros(dim), \n",
        "                                     scale_diag=np.ones(dim))\n",
        "    \n",
        "    # Sample initial condition\n",
        "    rngs = jax.random.split(rng, num_steps)\n",
        "    x0 = p.sample(seed=rngs[0])\n",
        "\n",
        "    # Define the for loop body\n",
        "    def update(x, rng):\n",
        "        # the loop carries around a sample value and a rng\n",
        "        x_rng, u_rng = jax.random.split(rng, 2)\n",
        "\n",
        "        # propose a new x value\n",
        "        q = dists.MultivariateNormalDiag(\n",
        "            loc=x, scale_diag=np.sqrt(proposal_variance) * np.ones(dim))\n",
        "        x_prop = q.sample(seed=x_rng)\n",
        "\n",
        "        # - evaluate acceptance probability\n",
        "        log_accept_prob = p.log_prob(x_prop) - p.log_prob(x)\n",
        "        \n",
        "        # - randomly accept/reject, update x as necessary\n",
        "        u = jax.random.uniform(u_rng)\n",
        "        x = lax.cond(np.log(u) < log_accept_prob,\n",
        "                     lambda operand: x_prop,\n",
        "                     lambda operand: x,\n",
        "                     None)\n",
        "        \n",
        "        return x, x \n",
        "\n",
        "    _, xs = lax.scan(update, x0, rngs[1:])\n",
        "    return xs\n",
        "\n",
        "run_mcmc = jit(_run_mcmc, static_argnums=(2, 3))"
      ],
      "execution_count": 45,
      "outputs": []
    },
    {
      "cell_type": "code",
      "metadata": {
        "id": "njBnrLCsI7U7",
        "outputId": "07b97d4e-d52d-472f-b1c8-ee3326a99e8d",
        "colab": {
          "base_uri": "https://localhost:8080/",
          "height": 299
        }
      },
      "source": [
        "# Try it out!\n",
        "xs = run_mcmc(jax.random.PRNGKey(0), 0.5**2, 10000, 2)\n",
        "plt.plot(xs)"
      ],
      "execution_count": 47,
      "outputs": [
        {
          "output_type": "execute_result",
          "data": {
            "text/plain": [
              "[<matplotlib.lines.Line2D at 0x7fb5d81db7f0>,\n",
              " <matplotlib.lines.Line2D at 0x7fb5d81db978>]"
            ]
          },
          "metadata": {
            "tags": []
          },
          "execution_count": 47
        },
        {
          "output_type": "display_data",
          "data": {
            "image/png": "[encoded data removed]",
            "text/plain": [
              "<Figure size 432x288 with 1 Axes>"
            ]
          },
          "metadata": {
            "tags": [],
            "needs_background": "light"
          }
        }
      ]
    },
    {
      "cell_type": "code",
      "metadata": {
        "id": "SR3OaiptSDWr",
        "outputId": "dcb19cf4-d090-42f3-92e7-578d21604d0c",
        "colab": {
          "base_uri": "https://localhost:8080/",
          "height": 282
        }
      },
      "source": [
        "# Make sure the marginals are standard normals\n",
        "xgrid = np.linspace(-4, 4, 1000)\n",
        "plt.hist(xs[:, 0], 50, density=True, alpha=0.5, edgecolor='k')\n",
        "plt.plot(xgrid, dists.Normal(0, 1).prob(xgrid), '-k', lw=2)"
      ],
      "execution_count": 48,
      "outputs": [
        {
          "output_type": "execute_result",
          "data": {
            "text/plain": [
              "[<matplotlib.lines.Line2D at 0x7fb5d9114828>]"
            ]
          },
          "metadata": {
            "tags": []
          },
          "execution_count": 48
        },
        {
          "output_type": "display_data",
          "data": {
            "image/png": "[encoded data removed]",
            "text/plain": [
              "<Figure size 432x288 with 1 Axes>"
            ]
          },
          "metadata": {
            "tags": [],
            "needs_background": "light"
          }
        }
      ]
    },
    {
      "cell_type": "markdown",
      "metadata": {
        "id": "9v5uSjW8T1Kt"
      },
      "source": [
        "# Compare variance of MCMC estimators as a function of $\\sigma^2$\n",
        "The quantity that we wish to minimize is\n",
        "\\begin{align}\n",
        "\\mathrm{Var}[\\hat{f}_N].\n",
        "\\end{align}\n",
        "\n",
        "**Experiment**\n",
        "- pick some $f$, e.g. $f(x) = x$\n",
        "- repeat $M$ times: run MCMC for $N$ steps from random initial condition, and evaluate $\\hat{f}_N^{(m)}$. \n",
        "- compute variance of estimates $\\{\\hat{f}_N^{(m)}\\}_{m=1}^M$\n"
      ]
    },
    {
      "cell_type": "code",
      "metadata": {
        "id": "w3gKcpmETXjB"
      },
      "source": [
        "def mcmc_experiment(rng, f, var, num_chains, num_steps, dim=2):\n",
        "    f_hats = []\n",
        "    for i in range(num_chains):\n",
        "        rng, this_rng = jax.random.split(rng, 2)\n",
        "        xs = run_mcmc(this_rng, var, num_steps, dim)\n",
        "        f_hat = np.mean(f(xs))\n",
        "        f_hats.append(f_hat)\n",
        "    return np.array(f_hats).var(), f_hats"
      ],
      "execution_count": 58,
      "outputs": []
    },
    {
      "cell_type": "code",
      "metadata": {
        "id": "j1HjfNYOVrwF",
        "outputId": "04e8eecf-33d0-4968-ec11-3b8777132a8f",
        "colab": {
          "base_uri": "https://localhost:8080/",
          "height": 223
        }
      },
      "source": [
        "f = lambda x: np.sum(x, axis=1)\n",
        "proposal_variances = np.array([0.1**2, 0.25**2, 0.5**2, 0.9**2, 1.0, \n",
        "                               1.1**2, 1.25**2, 1.5**2, 2.**2, 3.**2, \n",
        "                               5.**2, 10.**2])\n",
        "num_chains = 1000\n",
        "num_steps = 1000\n",
        "estimator_variances = []\n",
        "for proposal_variance in proposal_variances:\n",
        "    print(\"Proposal variance \", proposal_variance)\n",
        "    var_f_hat, f_hats = mcmc_experiment(jax.random.PRNGKey(0),\n",
        "                                        f, proposal_variance, \n",
        "                                        num_chains, \n",
        "                                        num_steps)\n",
        "    \n",
        "    estimator_variances.append(var_f_hat)"
      ],
      "execution_count": 79,
      "outputs": [
        {
          "output_type": "stream",
          "text": [
            "Proposal variance  0.01\n",
            "Proposal variance  0.0625\n",
            "Proposal variance  0.25\n",
            "Proposal variance  0.81\n",
            "Proposal variance  1.0\n",
            "Proposal variance  1.21\n",
            "Proposal variance  1.5625\n",
            "Proposal variance  2.25\n",
            "Proposal variance  4.0\n",
            "Proposal variance  9.0\n",
            "Proposal variance  25.0\n",
            "Proposal variance  100.0\n"
          ],
          "name": "stdout"
        }
      ]
    },
    {
      "cell_type": "code",
      "metadata": {
        "id": "CBufssT_V11W",
        "outputId": "b8817209-8030-49fd-ccc5-e1c3607d6190",
        "colab": {
          "base_uri": "https://localhost:8080/",
          "height": 300
        }
      },
      "source": [
        "plt.plot(np.sqrt(np.array(proposal_variances)), estimator_variances, '-o')\n",
        "plt.xlabel(\"proposal std ($\\\\sigma$)\")\n",
        "plt.ylabel(\"Var[$\\hat{{f}}_{{ {} }}$]\".format(num_steps))"
      ],
      "execution_count": 80,
      "outputs": [
        {
          "output_type": "execute_result",
          "data": {
            "text/plain": [
              "Text(0, 0.5, 'Var[$\\\\hat{f}_{ 1000 }$]')"
            ]
          },
          "metadata": {
            "tags": []
          },
          "execution_count": 80
        },
        {
          "output_type": "display_data",
          "data": {
            "image/png": "[encoded data removed]",
            "text/plain": [
              "<Figure size 432x288 with 1 Axes>"
            ]
          },
          "metadata": {
            "tags": [],
            "needs_background": "light"
          }
        }
      ]
    },
    {
      "cell_type": "markdown",
      "metadata": {
        "id": "-D4xguq2kE0g"
      },
      "source": [
        "# Compare to vanilla Monte Carlo\n",
        "What is the variance of the vanilla Monte Carlo estimator?\n",
        "\n",
        "\\begin{align}\n",
        "\\hat{f}_{\\mathsf{MC}} = \\frac{1}{N} \\sum_{n=1}^N f(x_n) \\qquad x_n \\sim p\n",
        "\\end{align}\n",
        "\n",
        "For $f(x) = \\sum_{d=1}^D x_d$ with $x \\sim \\mathcal{N}(0, I)$, \n",
        "\\begin{align}\n",
        "\\mathrm{Var}[f(x)] = \\sum_{d=1}^D \\mathrm{Var}(x_d) = D \n",
        "\\end{align}\n",
        "\n",
        "Then\n",
        "\\begin{align}\n",
        "\\mathrm{Var}[\\hat{f}_{\\mathsf{MC}}] &= \\frac{1}{N^2} \\sum_{n=1}^N \\mathrm{Var}[f(x)] \\\\\n",
        "&= \\frac{ND}{N^2} = \\frac{D}{N}\n",
        "\\end{align}"
      ]
    },
    {
      "cell_type": "code",
      "metadata": {
        "id": "XVf0zJyZWPfk",
        "outputId": "fd000b2d-0f28-40a9-bf9d-ba25ac0cd520",
        "colab": {
          "base_uri": "https://localhost:8080/",
          "height": 304
        }
      },
      "source": [
        "plt.plot(np.sqrt(np.array(proposal_variances)), estimator_variances, \n",
        "         '-o', label=\"random walk MH\")\n",
        "plt.plot(np.sqrt(np.array(proposal_variances)), \n",
        "         dim / num_steps * np.ones_like(proposal_variances), \n",
        "         ':r', label=\"vanilla MC\")\n",
        "plt.xlim(0, 4)\n",
        "plt.xlabel(\"proposal std ($\\\\sigma$)\")\n",
        "plt.ylim(0, 0.2)\n",
        "plt.ylabel(\"Var[$\\hat{{f}}_{{ {} }}$]\".format(num_steps))\n",
        "plt.legend(loc=\"upper right\")"
      ],
      "execution_count": 83,
      "outputs": [
        {
          "output_type": "execute_result",
          "data": {
            "text/plain": [
              "<matplotlib.legend.Legend at 0x7fb5d7cbe518>"
            ]
          },
          "metadata": {
            "tags": []
          },
          "execution_count": 83
        },
        {
          "output_type": "display_data",
          "data": {
            "image/png": "[encoded data removed]",
            "text/plain": [
              "<Figure size 432x288 with 1 Axes>"
            ]
          },
          "metadata": {
            "tags": [],
            "needs_background": "light"
          }
        }
      ]
    }
  ]
}
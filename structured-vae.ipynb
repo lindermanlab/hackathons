{
  "nbformat": 4,
  "nbformat_minor": 0,
  "metadata": {
    "colab": {
      "name": "Final copy of Structured Variational Autoencoders.ipynb",
      "provenance": [],
      "collapsed_sections": [],
      "toc_visible": true
    },
    "kernelspec": {
      "name": "python3",
      "display_name": "Python 3"
    },
    "widgets": {
      "application/vnd.jupyter.widget-state+json": {
        "9db3c60b08f64715a417be9055f7af89": {
          "model_module": "@jupyter-widgets/controls",
          "model_name": "HBoxModel",
          "state": {
            "_view_name": "HBoxView",
            "_dom_classes": [],
            "_model_name": "HBoxModel",
            "_view_module": "@jupyter-widgets/controls",
            "_model_module_version": "1.5.0",
            "_view_count": null,
            "_view_module_version": "1.5.0",
            "box_style": "",
            "layout": "IPY_MODEL_1235f92fd6b14e4fa0a850c055dfddd6",
            "_model_module": "@jupyter-widgets/controls",
            "children": [
              "IPY_MODEL_1077d13fc9fe4176abc7c57beaf39307",
              "IPY_MODEL_903d1149adde40e391f04848ab786ec2"
            ]
          }
        },
        "1235f92fd6b14e4fa0a850c055dfddd6": {
          "model_module": "@jupyter-widgets/base",
          "model_name": "LayoutModel",
          "state": {
            "_view_name": "LayoutView",
            "grid_template_rows": null,
            "right": null,
            "justify_content": null,
            "_view_module": "@jupyter-widgets/base",
            "overflow": null,
            "_model_module_version": "1.2.0",
            "_view_count": null,
            "flex_flow": null,
            "width": null,
            "min_width": null,
            "border": null,
            "align_items": null,
            "bottom": null,
            "_model_module": "@jupyter-widgets/base",
            "top": null,
            "grid_column": null,
            "overflow_y": null,
            "overflow_x": null,
            "grid_auto_flow": null,
            "grid_area": null,
            "grid_template_columns": null,
            "flex": null,
            "_model_name": "LayoutModel",
            "justify_items": null,
            "grid_row": null,
            "max_height": null,
            "align_content": null,
            "visibility": null,
            "align_self": null,
            "height": null,
            "min_height": null,
            "padding": null,
            "grid_auto_rows": null,
            "grid_gap": null,
            "max_width": null,
            "order": null,
            "_view_module_version": "1.2.0",
            "grid_template_areas": null,
            "object_position": null,
            "object_fit": null,
            "grid_auto_columns": null,
            "margin": null,
            "display": null,
            "left": null
          }
        },
        "1077d13fc9fe4176abc7c57beaf39307": {
          "model_module": "@jupyter-widgets/controls",
          "model_name": "FloatProgressModel",
          "state": {
            "_view_name": "ProgressView",
            "style": "IPY_MODEL_1083b1b5cf914e9cb16c18da1b9eb3e8",
            "_dom_classes": [],
            "description": "ELBO: -2.596: 100%",
            "_model_name": "FloatProgressModel",
            "bar_style": "success",
            "max": 200,
            "_view_module": "@jupyter-widgets/controls",
            "_model_module_version": "1.5.0",
            "value": 200,
            "_view_count": null,
            "_view_module_version": "1.5.0",
            "orientation": "horizontal",
            "min": 0,
            "description_tooltip": null,
            "_model_module": "@jupyter-widgets/controls",
            "layout": "IPY_MODEL_1f4ed975f4434e88b8879e6da635a807"
          }
        },
        "903d1149adde40e391f04848ab786ec2": {
          "model_module": "@jupyter-widgets/controls",
          "model_name": "HTMLModel",
          "state": {
            "_view_name": "HTMLView",
            "style": "IPY_MODEL_a6fd3d13317c4c8b8f118af4f4f4a911",
            "_dom_classes": [],
            "description": "",
            "_model_name": "HTMLModel",
            "placeholder": "​",
            "_view_module": "@jupyter-widgets/controls",
            "_model_module_version": "1.5.0",
            "value": " 200/200 [00:29&lt;00:00,  6.71it/s]",
            "_view_count": null,
            "_view_module_version": "1.5.0",
            "description_tooltip": null,
            "_model_module": "@jupyter-widgets/controls",
            "layout": "IPY_MODEL_a841be5857544690870b89695f371513"
          }
        },
        "1083b1b5cf914e9cb16c18da1b9eb3e8": {
          "model_module": "@jupyter-widgets/controls",
          "model_name": "ProgressStyleModel",
          "state": {
            "_view_name": "StyleView",
            "_model_name": "ProgressStyleModel",
            "description_width": "initial",
            "_view_module": "@jupyter-widgets/base",
            "_model_module_version": "1.5.0",
            "_view_count": null,
            "_view_module_version": "1.2.0",
            "bar_color": null,
            "_model_module": "@jupyter-widgets/controls"
          }
        },
        "1f4ed975f4434e88b8879e6da635a807": {
          "model_module": "@jupyter-widgets/base",
          "model_name": "LayoutModel",
          "state": {
            "_view_name": "LayoutView",
            "grid_template_rows": null,
            "right": null,
            "justify_content": null,
            "_view_module": "@jupyter-widgets/base",
            "overflow": null,
            "_model_module_version": "1.2.0",
            "_view_count": null,
            "flex_flow": null,
            "width": null,
            "min_width": null,
            "border": null,
            "align_items": null,
            "bottom": null,
            "_model_module": "@jupyter-widgets/base",
            "top": null,
            "grid_column": null,
            "overflow_y": null,
            "overflow_x": null,
            "grid_auto_flow": null,
            "grid_area": null,
            "grid_template_columns": null,
            "flex": null,
            "_model_name": "LayoutModel",
            "justify_items": null,
            "grid_row": null,
            "max_height": null,
            "align_content": null,
            "visibility": null,
            "align_self": null,
            "height": null,
            "min_height": null,
            "padding": null,
            "grid_auto_rows": null,
            "grid_gap": null,
            "max_width": null,
            "order": null,
            "_view_module_version": "1.2.0",
            "grid_template_areas": null,
            "object_position": null,
            "object_fit": null,
            "grid_auto_columns": null,
            "margin": null,
            "display": null,
            "left": null
          }
        },
        "a6fd3d13317c4c8b8f118af4f4f4a911": {
          "model_module": "@jupyter-widgets/controls",
          "model_name": "DescriptionStyleModel",
          "state": {
            "_view_name": "StyleView",
            "_model_name": "DescriptionStyleModel",
            "description_width": "",
            "_view_module": "@jupyter-widgets/base",
            "_model_module_version": "1.5.0",
            "_view_count": null,
            "_view_module_version": "1.2.0",
            "_model_module": "@jupyter-widgets/controls"
          }
        },
        "a841be5857544690870b89695f371513": {
          "model_module": "@jupyter-widgets/base",
          "model_name": "LayoutModel",
          "state": {
            "_view_name": "LayoutView",
            "grid_template_rows": null,
            "right": null,
            "justify_content": null,
            "_view_module": "@jupyter-widgets/base",
            "overflow": null,
            "_model_module_version": "1.2.0",
            "_view_count": null,
            "flex_flow": null,
            "width": null,
            "min_width": null,
            "border": null,
            "align_items": null,
            "bottom": null,
            "_model_module": "@jupyter-widgets/base",
            "top": null,
            "grid_column": null,
            "overflow_y": null,
            "overflow_x": null,
            "grid_auto_flow": null,
            "grid_area": null,
            "grid_template_columns": null,
            "flex": null,
            "_model_name": "LayoutModel",
            "justify_items": null,
            "grid_row": null,
            "max_height": null,
            "align_content": null,
            "visibility": null,
            "align_self": null,
            "height": null,
            "min_height": null,
            "padding": null,
            "grid_auto_rows": null,
            "grid_gap": null,
            "max_width": null,
            "order": null,
            "_view_module_version": "1.2.0",
            "grid_template_areas": null,
            "object_position": null,
            "object_fit": null,
            "grid_auto_columns": null,
            "margin": null,
            "display": null,
            "left": null
          }
        },
        "25e453374c7340b38e0958240775a7d3": {
          "model_module": "@jupyter-widgets/controls",
          "model_name": "HBoxModel",
          "state": {
            "_view_name": "HBoxView",
            "_dom_classes": [],
            "_model_name": "HBoxModel",
            "_view_module": "@jupyter-widgets/controls",
            "_model_module_version": "1.5.0",
            "_view_count": null,
            "_view_module_version": "1.5.0",
            "box_style": "",
            "layout": "IPY_MODEL_59b312682a97439c80343ec506693d61",
            "_model_module": "@jupyter-widgets/controls",
            "children": [
              "IPY_MODEL_793121e1bf32480ca9b42c8b9fa80d1a",
              "IPY_MODEL_54777a7a45af4ce5884e511828b553d7"
            ]
          }
        },
        "59b312682a97439c80343ec506693d61": {
          "model_module": "@jupyter-widgets/base",
          "model_name": "LayoutModel",
          "state": {
            "_view_name": "LayoutView",
            "grid_template_rows": null,
            "right": null,
            "justify_content": null,
            "_view_module": "@jupyter-widgets/base",
            "overflow": null,
            "_model_module_version": "1.2.0",
            "_view_count": null,
            "flex_flow": null,
            "width": null,
            "min_width": null,
            "border": null,
            "align_items": null,
            "bottom": null,
            "_model_module": "@jupyter-widgets/base",
            "top": null,
            "grid_column": null,
            "overflow_y": null,
            "overflow_x": null,
            "grid_auto_flow": null,
            "grid_area": null,
            "grid_template_columns": null,
            "flex": null,
            "_model_name": "LayoutModel",
            "justify_items": null,
            "grid_row": null,
            "max_height": null,
            "align_content": null,
            "visibility": null,
            "align_self": null,
            "height": null,
            "min_height": null,
            "padding": null,
            "grid_auto_rows": null,
            "grid_gap": null,
            "max_width": null,
            "order": null,
            "_view_module_version": "1.2.0",
            "grid_template_areas": null,
            "object_position": null,
            "object_fit": null,
            "grid_auto_columns": null,
            "margin": null,
            "display": null,
            "left": null
          }
        },
        "793121e1bf32480ca9b42c8b9fa80d1a": {
          "model_module": "@jupyter-widgets/controls",
          "model_name": "FloatProgressModel",
          "state": {
            "_view_name": "ProgressView",
            "style": "IPY_MODEL_48ba5f81d475437d837bddb7d7f3f3b1",
            "_dom_classes": [],
            "description": "ELBO: -0.615: 100%",
            "_model_name": "FloatProgressModel",
            "bar_style": "success",
            "max": 5000,
            "_view_module": "@jupyter-widgets/controls",
            "_model_module_version": "1.5.0",
            "value": 5000,
            "_view_count": null,
            "_view_module_version": "1.5.0",
            "orientation": "horizontal",
            "min": 0,
            "description_tooltip": null,
            "_model_module": "@jupyter-widgets/controls",
            "layout": "IPY_MODEL_ca30483e8ce048cb83b2a1858eac9ca0"
          }
        },
        "54777a7a45af4ce5884e511828b553d7": {
          "model_module": "@jupyter-widgets/controls",
          "model_name": "HTMLModel",
          "state": {
            "_view_name": "HTMLView",
            "style": "IPY_MODEL_233290fba9cb4ea48adaa3ae9789e47f",
            "_dom_classes": [],
            "description": "",
            "_model_name": "HTMLModel",
            "placeholder": "​",
            "_view_module": "@jupyter-widgets/controls",
            "_model_module_version": "1.5.0",
            "value": " 5000/5000 [04:39&lt;00:00, 17.86it/s]",
            "_view_count": null,
            "_view_module_version": "1.5.0",
            "description_tooltip": null,
            "_model_module": "@jupyter-widgets/controls",
            "layout": "IPY_MODEL_92045ddbcb6542ada031989bddd1d652"
          }
        },
        "48ba5f81d475437d837bddb7d7f3f3b1": {
          "model_module": "@jupyter-widgets/controls",
          "model_name": "ProgressStyleModel",
          "state": {
            "_view_name": "StyleView",
            "_model_name": "ProgressStyleModel",
            "description_width": "initial",
            "_view_module": "@jupyter-widgets/base",
            "_model_module_version": "1.5.0",
            "_view_count": null,
            "_view_module_version": "1.2.0",
            "bar_color": null,
            "_model_module": "@jupyter-widgets/controls"
          }
        },
        "ca30483e8ce048cb83b2a1858eac9ca0": {
          "model_module": "@jupyter-widgets/base",
          "model_name": "LayoutModel",
          "state": {
            "_view_name": "LayoutView",
            "grid_template_rows": null,
            "right": null,
            "justify_content": null,
            "_view_module": "@jupyter-widgets/base",
            "overflow": null,
            "_model_module_version": "1.2.0",
            "_view_count": null,
            "flex_flow": null,
            "width": null,
            "min_width": null,
            "border": null,
            "align_items": null,
            "bottom": null,
            "_model_module": "@jupyter-widgets/base",
            "top": null,
            "grid_column": null,
            "overflow_y": null,
            "overflow_x": null,
            "grid_auto_flow": null,
            "grid_area": null,
            "grid_template_columns": null,
            "flex": null,
            "_model_name": "LayoutModel",
            "justify_items": null,
            "grid_row": null,
            "max_height": null,
            "align_content": null,
            "visibility": null,
            "align_self": null,
            "height": null,
            "min_height": null,
            "padding": null,
            "grid_auto_rows": null,
            "grid_gap": null,
            "max_width": null,
            "order": null,
            "_view_module_version": "1.2.0",
            "grid_template_areas": null,
            "object_position": null,
            "object_fit": null,
            "grid_auto_columns": null,
            "margin": null,
            "display": null,
            "left": null
          }
        },
        "233290fba9cb4ea48adaa3ae9789e47f": {
          "model_module": "@jupyter-widgets/controls",
          "model_name": "DescriptionStyleModel",
          "state": {
            "_view_name": "StyleView",
            "_model_name": "DescriptionStyleModel",
            "description_width": "",
            "_view_module": "@jupyter-widgets/base",
            "_model_module_version": "1.5.0",
            "_view_count": null,
            "_view_module_version": "1.2.0",
            "_model_module": "@jupyter-widgets/controls"
          }
        },
        "92045ddbcb6542ada031989bddd1d652": {
          "model_module": "@jupyter-widgets/base",
          "model_name": "LayoutModel",
          "state": {
            "_view_name": "LayoutView",
            "grid_template_rows": null,
            "right": null,
            "justify_content": null,
            "_view_module": "@jupyter-widgets/base",
            "overflow": null,
            "_model_module_version": "1.2.0",
            "_view_count": null,
            "flex_flow": null,
            "width": null,
            "min_width": null,
            "border": null,
            "align_items": null,
            "bottom": null,
            "_model_module": "@jupyter-widgets/base",
            "top": null,
            "grid_column": null,
            "overflow_y": null,
            "overflow_x": null,
            "grid_auto_flow": null,
            "grid_area": null,
            "grid_template_columns": null,
            "flex": null,
            "_model_name": "LayoutModel",
            "justify_items": null,
            "grid_row": null,
            "max_height": null,
            "align_content": null,
            "visibility": null,
            "align_self": null,
            "height": null,
            "min_height": null,
            "padding": null,
            "grid_auto_rows": null,
            "grid_gap": null,
            "max_width": null,
            "order": null,
            "_view_module_version": "1.2.0",
            "grid_template_areas": null,
            "object_position": null,
            "object_fit": null,
            "grid_auto_columns": null,
            "margin": null,
            "display": null,
            "left": null
          }
        }
      }
    },
    "accelerator": "GPU"
  },
  "cells": [
    {
      "cell_type": "markdown",
      "metadata": {
        "id": "dmseMeMIfTl8",
        "colab_type": "text"
      },
      "source": [
        "# Structured Variational Autoencoders (SVAEs) \n",
        "**By Yixiu Zhao and Scott Linderman, Sept 13, 2020**\n",
        "\n",
        "[![Open In Colab](https://colab.research.google.com/assets/colab-badge.svg)](https://colab.research.google.com/github/lindermanlab/hackathons/blob/master/structured-vae.ipynb)\n",
        "___\n",
        "\n",
        "![SVAE](https://people.csail.mit.edu/mattjj/resources/svae.png)\n",
        "\n",
        "_Structured_ VAEs [[Johnson et al (2016)](https://papers.nips.cc/paper/6379-composing-graphical-models-with-neural-networks-for-structured-representations-and-fast-inference)] combine probabilistic graphical models (PGMs) and neural networks in a deep generative model. This notebook shows to implement them using [JAX](https://github.com/google/jax/)!\n",
        "\n",
        "First, here's what you need to know about Structured VAEs.  They rely on two key ideas, a modeling idea and an inference idea.  \n",
        "\n",
        "### The Modeling Idea\n",
        "This one is simple enough: replace the standard Gaussian prior on latent variables (aka \"codes\") with an arbitrary PGM.  Imagine we are modeling a video stream, like bouncing MNIST (a video of handwritten digits bouncing around in a box).  The PGM allows us to express inductive biases; for example, each frame may be described by a low-dimensional latent variable, like the identity and location of each digit, and these latent variables shouldn't change too much from one frame to the next.  The neural network allows us to model the potentially complex mapping from latent variables to observed images; for example, convolutional neural networks are well-suited to this task.  \n",
        "\n",
        "In a typical setup, we have a joint distribution latent variables $x$ and data $y$ that factors as,\n",
        "\\begin{align}\n",
        "p(x, y; \\theta, \\gamma) &= \\overbrace{p(x; \\theta)}^{\\textsf{PGM prior}} \\times \\underbrace{p(y \\mid x; \\gamma)}_{\\textsf{NN likelihood}}\n",
        "\\end{align}\n",
        "where $\\theta$ parameterize the probabilistic graphical model prior on latent variables, and $\\gamma$ parameterize the neural netwok that maps latent variables to a conditional distribution on data.\n",
        "\n",
        "### The Inference Idea\n",
        "It's not so hard to stitch together PGMs and neural networks; indeed, over the past four years we've seen dozens of papers that propose something like this. The real question is how to infer the latent variables and estimate the parameters of such a model?  We could use our standard VAE tricks and train a _recogntion network_ that outputs an approximate posterior distribution $q(x; y, \\phi)$ on the latent variables, but that wouldn't leverage  our PGM prior.  For example, if our PGM is constructed of conjugate exponential family distributions, we should be able to leverage this structure to perform more efficient posterior inference.  \n",
        "\n",
        "The second key idea behind the SVAE is that instead of outputting a full posterior distribution on latent variables, the recognition network could instead output a set of _conjugate potentials_ for the PGM.  With these potentials, we can use standard PGM inference algorithms, like coordinate ascent variational inference (CAVI), to obtain the posterior distribution.  This is easier said than done though, so let's break it down.\n",
        "\n",
        "As usual, we will optimize the evidence lower bound (ELBO) on the marginal likelihood,\n",
        "\\begin{align}\n",
        "\\mathcal{L}(\\phi, \\theta, \\gamma) \n",
        "&= \\mathbb{E}_{q(x; y, \\theta, \\phi)} \\left[ \\log p(x, y; \\theta, \\gamma) - \\log q(x; y, \\theta, \\phi) \\right] \\\\\n",
        "&= \\log p(y; \\theta, \\gamma) -\\mathrm{KL}\\big( q(x; y, \\theta, \\phi) \\,\\|\\, p(x \\mid y; \\theta, \\gamma) \\big) \\\\\n",
        "&\\leq \\log p(y; \\theta, \\gamma).\n",
        "\\end{align}\n",
        "Maximizing this objective function wrt $\\phi$ is equivalent to minimizing the KL divergence between the approximate posterior and the true posterior; Optimizing wrt $\\theta$ and $\\gamma$ maximizes the marginal likelihood of the data, integrating over the latent variables.  Importantly, the lower bound holds for any choice of variational posterior $q(x; y, \\theta, \\phi)$.\n",
        "\n",
        "The SVAE implicitly defines the variational posterior as the solution to a _surrogate_ variational inference problem,\n",
        "\\begin{align}\n",
        "q(x; y, \\theta, \\phi) &= \\underset{\\mathcal{\\tilde{q} \\in Q}}{\\operatorname{argmin}} \\; \\mathrm{KL}\\big( \\tilde{q}(x) \\,\\|\\, \\tilde{p}(x; y, \\theta, \\phi) \\big)\n",
        "\\end{align}\n",
        "where\n",
        "\\begin{align}\n",
        "\\tilde{p}(x; y, \\theta, \\phi) &\\propto \n",
        "\\overbrace{p(x; \\theta)}^{\\textsf{PGM prior}} \\times \\underbrace{\\psi(x; y, \\phi)}_{\\textsf{conjugate potentials}}.\n",
        "\\end{align}\n",
        "The conjugate potentials are given by the recongition network: it maps data $y$ to functions $\\psi(x; y, \\phi)$ that are conjugate with the PGM prior.  Since the potentials are conjugate with the PGM prior, solving this surrogate problem is much easier than maximizing the marginal likelihood above.\n",
        "\n",
        "Notice how similar the surrogate posterior $\\tilde{p}(x; y, \\theta, \\phi)$ is to the joint distribution $p(x, y; \\theta, \\gamma)$ above.  **Another way to think about the SVAE is that it learns to approximate the neural network likelihood with a conjugate potential for posterior inference.**\n",
        "\n",
        "<!-- ### The Learning Idea\n",
        "Ok, we know we said there were only two key ideas, but let us throw in a bonus one just for fun. It turns out that once you've approximated the variaional posterior in this way, you can actually learn the PGM parameters $\\theta$ much more efficiently using natural gradient descent, just like in stochastic variational inference [[Hoffman et al (2013)](https://www.jmlr.org/papers/volume14/hoffman13a/hoffman13a.pdf)].  Assume the PGM prior is an exponential family distribution,\n",
        "\\begin{align}\n",
        "p(x; \\theta) &= h(x) \\exp \\left\\{ t(x)^\\top \\theta - A(\\theta) \\right \\},\n",
        "\\end{align}\n",
        "where $t(x)$ are the sufficient statistics and $A(\\theta)$ is the log normalizer.  Skipping some details and making a few minor assumptions$^*$, the natural gradient updates boil down to accumulating expected sufficient statistics,\n",
        "\\begin{align}\n",
        "\\overline{t(x)} \\leftarrow (1-\\alpha) \\, \\overline{t(x)} + \\alpha \\, \\mathbb{E}_{q(x; y, \\theta, \\phi)}[t(x)]\n",
        "\\end{align}\n",
        "where $\\alpha \\in [0,1]$ is a step size, and setting\n",
        "\\begin{align}\n",
        "\\theta &\\leftarrow \\underset{\\theta \\in \\Theta}{\\operatorname{argmax}} \\overline{t(x)}^\\top \\theta - A(\\theta) \\\\\n",
        "&= [\\nabla A]^{-1}\\big( \\overline{t(x)} \\big).\n",
        "\\end{align}\n",
        "This is just like an exact \"M-step\" in expectation-maximization, but here we use approximate expected sufficient statistics.\n",
        "\n",
        "Let's give it a shot!\n",
        "\n",
        "***\n",
        "<small>$^*$ Specifically, we are assuming that the minibatches are all the same size and that we have a (potentially improper) uniform prior on the parameters. You might also wonder why the updates for $\\theta$ don't have a term involving $\\frac{\\partial q}{\\partial \\theta}$; it turns out this term disappears when $q$ is a local optimum of the surrogate variational problem.\n",
        "</small> -->"
      ]
    },
    {
      "cell_type": "markdown",
      "metadata": {
        "id": "DlMayCoOMVxg",
        "colab_type": "text"
      },
      "source": [
        "# Set up the environment"
      ]
    },
    {
      "cell_type": "code",
      "metadata": {
        "id": "tAGRpmP3YTML",
        "colab_type": "code",
        "colab": {
          "base_uri": "https://localhost:8080/",
          "height": 136
        },
        "outputId": "e5066007-c617-4a58-fa75-d89139583435"
      },
      "source": [
        "# We'll use tensorflow probability's nightly build since it includes a JAX substrate\n",
        "!pip install tfp-nightly"
      ],
      "execution_count": 1,
      "outputs": [
        {
          "output_type": "stream",
          "text": [
            "Requirement already satisfied: tfp-nightly in /usr/local/lib/python3.6/dist-packages (0.12.0.dev20200914)\n",
            "Requirement already satisfied: six>=1.10.0 in /usr/local/lib/python3.6/dist-packages (from tfp-nightly) (1.15.0)\n",
            "Requirement already satisfied: gast>=0.3.2 in /usr/local/lib/python3.6/dist-packages (from tfp-nightly) (0.3.3)\n",
            "Requirement already satisfied: dm-tree in /usr/local/lib/python3.6/dist-packages (from tfp-nightly) (0.1.5)\n",
            "Requirement already satisfied: cloudpickle>=1.3 in /usr/local/lib/python3.6/dist-packages (from tfp-nightly) (1.3.0)\n",
            "Requirement already satisfied: numpy>=1.13.3 in /usr/local/lib/python3.6/dist-packages (from tfp-nightly) (1.18.5)\n",
            "Requirement already satisfied: decorator in /usr/local/lib/python3.6/dist-packages (from tfp-nightly) (4.4.2)\n"
          ],
          "name": "stdout"
        }
      ]
    },
    {
      "cell_type": "code",
      "metadata": {
        "id": "EqZJOVLpeW6P",
        "colab_type": "code",
        "colab": {
          "base_uri": "https://localhost:8080/",
          "height": 51
        },
        "outputId": "1e0012cc-168a-4166-f2cf-1cb3755e7f6f"
      },
      "source": [
        "import time\n",
        "from jax import jit, grad, value_and_grad, lax, vmap\n",
        "import jax.numpy as np\n",
        "import jax.random\n",
        "from jax.nn import softplus\n",
        "import jax.nn.initializers as nn_init\n",
        "from jax.experimental import optimizers, stax\n",
        "from jax.experimental.stax import serial, parallel, Dense, Relu, FanOut, FanInSum, Softplus, Identity\n",
        "from jax.scipy.special import logsumexp\n",
        "from jax.tree_util import register_pytree_node\n",
        "\n",
        "from jax.config import config \n",
        "config.update(\"jax_debug_nans\", True)\n",
        "config.update(\"jax_enable_x64\", False)\n",
        "\n",
        "import tensorflow_probability as tfp\n",
        "import tensorflow_probability.substrates.jax.distributions as dists\n",
        "\n",
        "import matplotlib.pyplot as plt\n",
        "import seaborn as sns\n",
        "sns.set_context(\"talk\")\n",
        "sns.set_style(\"white\")\n",
        "\n",
        "from tqdm.auto import trange"
      ],
      "execution_count": 2,
      "outputs": [
        {
          "output_type": "stream",
          "text": [
            "/usr/local/lib/python3.6/dist-packages/statsmodels/tools/_testing.py:19: FutureWarning: pandas.util.testing is deprecated. Use the functions in the public API at pandas.testing instead.\n",
            "  import pandas.util.testing as tm\n"
          ],
          "name": "stderr"
        }
      ]
    },
    {
      "cell_type": "code",
      "metadata": {
        "id": "SM8F7TynjEO3",
        "colab_type": "code",
        "colab": {
          "base_uri": "https://localhost:8080/",
          "height": 34
        },
        "outputId": "10f63409-d6db-469d-b102-849ba9f62099"
      },
      "source": [
        "# Register these TFP distributions as PyTrees, if they're not already\n",
        "try:\n",
        "    register_pytree_node(\n",
        "        dists.Normal,\n",
        "        lambda value: ((value.loc, value.scale), None),\n",
        "        lambda aux_data, children: dists.Normal(*children)\n",
        "    )\n",
        "\n",
        "    register_pytree_node(\n",
        "        dists.MultivariateNormalFullCovariance,\n",
        "        lambda value: ((value.loc, value.covariance()), None),\n",
        "        lambda aux_data, children: dists.MultivariateNormalFullCovariance(*children)\n",
        "    )\n",
        "\n",
        "    register_pytree_node(\n",
        "        dists.Categorical,\n",
        "        lambda value: ((value.logits_parameter(),), None),\n",
        "        lambda aux_data, children: dists.Categorical(*children)\n",
        "    )\n",
        "except:\n",
        "    print(\"Looks like the TFP distributions are already registered.\")\n",
        "    "
      ],
      "execution_count": 3,
      "outputs": [
        {
          "output_type": "stream",
          "text": [
            "Looks like the TFP distributions are already registered.\n"
          ],
          "name": "stdout"
        }
      ]
    },
    {
      "cell_type": "markdown",
      "metadata": {
        "id": "e3rEi7kwMRI2",
        "colab_type": "text"
      },
      "source": [
        "# Let's start with a generic base class for SVAEs"
      ]
    },
    {
      "cell_type": "code",
      "metadata": {
        "id": "ycxFKYqEOzuj",
        "colab_type": "code",
        "colab": {}
      },
      "source": [
        "class SVAE(object):\n",
        "\n",
        "    def prior(self, prior_params):\n",
        "        \"\"\"Instantiate a TFP Distribution for the prior using the given params. \n",
        "        \"\"\"\n",
        "        raise NotImplementedError\n",
        "\n",
        "    def init_parameters(self, rng, data=None):\n",
        "        \"\"\"Initialize parameters for the given dataset. \n",
        "\n",
        "        Returns a tuple of (prior_params, recognition_params, decoder_params)\n",
        "        \"\"\"\n",
        "        raise NotImplementedError\n",
        "\n",
        "    def init_posterior(self, rng, prior_params, recognition_params, data):\n",
        "        \"\"\"Optionally, initialize a posterior distribution object for fitting.\n",
        "        \"\"\"\n",
        "        return None\n",
        "\n",
        "    def recognize(self, recognition_params, data):\n",
        "        \"\"\"The recognition network outputs conjugate potentials as TFP Distribution\n",
        "        objects.\n",
        "        \"\"\"\n",
        "        raise NotImplementedError\n",
        "\n",
        "    def decode(self, decoder_params, latents):\n",
        "        \"\"\"The decoder maps latent variables to a TFP Distribution for the \n",
        "        observed data.\n",
        "        \"\"\"\n",
        "        raise NotImplementedError\n",
        "\n",
        "    def pgm_inference(self, prior_params, potential_params, initial_posterior=None):\n",
        "        \"\"\"PGM inference combines the prior and the recognition potentials and\n",
        "        peforms probabilistic inference to return a posterior distribution.\n",
        "        \"\"\"\n",
        "        raise NotImplementedError\n",
        "\n",
        "    def pgm_mstep(self, posterior):\n",
        "        \"\"\"Solve for the prior parameters that maximize the ELBO using the given\n",
        "        posterior distribution.  This is typically doable in closed form for \n",
        "        conjugate PGMs.\n",
        "        \"\"\"\n",
        "        raise NotImplementedError\n",
        "\n",
        "    def infer(self, params, data, initial_posterior=None):\n",
        "        \"\"\"Given data and parameters, first compute the recognition potentials\n",
        "        and combine them with the prior in PGM inference.\n",
        "        \"\"\"\n",
        "        # Compute the approximate posterior q(x; y, \\theta, \\gamma)\n",
        "        prior_params, recognition_params, decoder_params = params\n",
        "        prior = self.prior(prior_params)\n",
        "        potentials = self.recognize(recognition_params, data)\n",
        "        posterior = self.pgm_inference(prior, potentials, initial_posterior)\n",
        "        return posterior\n",
        "\n",
        "    def reconstruct(self, params, data):\n",
        "        prior_params, recognition_params, decoder_params = params\n",
        "        posterior = self.infer(params, data)\n",
        "        return self.decode(decoder_params, posterior.mean())\n",
        "\n",
        "    # Define the lower bound on the marginal likelihood to optimize.\n",
        "    def elbo(self, rng, params, data, \n",
        "             initial_posterior=None, \n",
        "             num_samples=10,\n",
        "             kl_scale_factor=1.0):\n",
        "        \"\"\"\n",
        "        Compute a Monte Carlo estimate of the variational lower\n",
        "        bound.  E_{q(x)}[log p(x,y) - log q(x)].\n",
        "\n",
        "        rng: a JAX PRNGKey\n",
        "        \n",
        "        params: a tuple of prior parameters and variational parameters.\n",
        "            In future examples, this will also include parameters of the \n",
        "            likelihood function in the generative model.\n",
        "\n",
        "        data: a batch of data\n",
        "\n",
        "        num_samples: number of samples to draw from the variational posterior.\n",
        "        \"\"\"\n",
        "        prior_params, recognition_params, decoder_params = params\n",
        "        prior = self.prior(prior_params)\n",
        "        posterior = self.infer(params, data, initial_posterior)\n",
        "        \n",
        "        # Draw samples from the variational posterior\n",
        "        posterior_samples = posterior.sample(seed=rng, sample_shape=(num_samples,))\n",
        "        likelihood_per_sample = lambda sample: self.decode(decoder_params, sample).log_prob(data)\n",
        "        expected_log_likelihood = np.mean(vmap(likelihood_per_sample)(posterior_samples), axis=0)\n",
        "\n",
        "        # Compute the KL to the prior\n",
        "        kl_to_prior = kl_scale_factor * posterior.kl_divergence(prior)\n",
        "\n",
        "        # Average over samples from the variational posterior.\n",
        "        avg_elbo = np.sum(expected_log_likelihood - kl_to_prior) / data.size\n",
        "\n",
        "        # Return the ELBO, posterior, and diagnostics\n",
        "        return avg_elbo, posterior, np.sum(kl_to_prior) / data.size, \n",
        "\n",
        "    def fit(self, rng, data, num_iters=100, \n",
        "            initial_params=None, initial_posterior=None,\n",
        "            optimizer=optimizers.adam, optimizer_kwargs=dict(step_size=1e-2)):\n",
        "        init_prm_rng, init_post_rng, rng = jax.random.split(rng, 3)\n",
        "\n",
        "        # Initialize the model parameters\n",
        "        if initial_params is None:\n",
        "            prior_params, recognition_params, decoder_params = \\\n",
        "                self.init_parameters(init_prm_rng, data)\n",
        "        else:\n",
        "            prior_params, recognition_params, decoder_params = initial_params\n",
        "\n",
        "        # Initialize the first iteration's posterior distribution\n",
        "        posterior = self.init_posterior(init_post_rng, prior_params, \n",
        "                                        recognition_params, data)\n",
        "        \n",
        "        # Initialize SGD optimizer for the recognition and decoder parameters\n",
        "        opt_init, opt_update, get_params = optimizer(**optimizer_kwargs)\n",
        "        opt_state = opt_init((recognition_params, decoder_params))\n",
        "\n",
        "        # Define one step of the optimization\n",
        "        @jit\n",
        "        def _step(itr, this_rng, opt_state, prior_params, init_posterior):\n",
        "\n",
        "            # Define a loss wrt the recognition and decoder params only\n",
        "            def _loss(rec_dec_params):\n",
        "                params = (prior_params,) + rec_dec_params\n",
        "                elbo, posterior, kl_to_prior = \\\n",
        "                    self.elbo(this_rng, params, data, init_posterior)\n",
        "                return -elbo, (posterior, kl_to_prior)\n",
        "\n",
        "            # Take a gradient step wrt the recognition and decoder params\n",
        "            (negelbo, (posterior, kl_to_prior)), g = \\\n",
        "                value_and_grad(_loss, has_aux=True)(get_params(opt_state))\n",
        "            opt_state = opt_update(itr, g, opt_state)\n",
        "\n",
        "            # Take a natural gradient step wrt the prior parameters\n",
        "            prior_params = self.pgm_mstep(posterior)\n",
        "            return prior_params, opt_state, posterior, -negelbo, kl_to_prior\n",
        "\n",
        "        # Run the variational EM algorithm\n",
        "        elbos = []\n",
        "        kls = []\n",
        "        pbar = trange(num_iters)\n",
        "        for itr in pbar:\n",
        "            this_rng, rng = jax.random.split(rng, 2)\n",
        "            prior_params, opt_state, posterior, elbo, kl_to_prior = \\\n",
        "                _step(itr, this_rng, opt_state, prior_params, posterior)\n",
        "            elbos.append(elbo)\n",
        "            kls.append(kl_to_prior)\n",
        "            pbar.set_description(\"ELBO: {:.3f}\".format(elbo))        \n",
        "\n",
        "        # Unpack the results\n",
        "        elbos = np.stack(elbos)\n",
        "        kls = np.stack(kls)\n",
        "        params = (prior_params,) + get_params(opt_state)\n",
        "        return elbos, kls, params, posterior"
      ],
      "execution_count": 8,
      "outputs": []
    },
    {
      "cell_type": "markdown",
      "metadata": {
        "id": "XYxsfwLJnNoi",
        "colab_type": "text"
      },
      "source": [
        "# A Warm-up Example\n",
        "\n",
        "We'll start with a simple Gaussian-Poisson model,\n",
        "\\begin{align}\n",
        "x_n &\\sim \\mathcal{N}(\\mu, \\sigma) \\\\\n",
        "y_n &\\sim \\mathrm{Po}(f(x_n))\n",
        "\\end{align}\n",
        "where $x_n \\in \\mathbb{R}$ is a real-valued latent variable for the $n$-th datapoint, and $y_n \\in \\mathbb{N}$ is the count-valued observation. The PGM parameters are $\\theta = (\\mu, \\sigma^2)$, the mean and variance of the Gaussian prior. We choose the softplus link function $f(x) = \\log (1 + e^x)$; it's a parameter-free one layer neural network!\n",
        "\n",
        "Since we have a Gaussian prior, the conjugate potentials will also be Gaussian.\n",
        "The recognition network will output,\n",
        "\\begin{align}\n",
        "\\psi(x_n; y_n, \\phi) &= \n",
        "\\mathcal{N}\\big(x_n; \\hat{\\mu}(y_n, \\phi), \\hat{\\sigma}(y_n, \\phi)^2 \\big)\n",
        "\\end{align}\n",
        "where $\\hat{\\mu}$ and $\\hat{\\sigma}$ are implemented by a neural network with weights $\\phi$.  The first output is a mean and the second is a non-negative scale.\n",
        "\n",
        "In this case, the _surrogate_ variational inference problem can be solved analytically.  Let $\\mathcal{Q} = \\big \\{\\mathcal{N}(\\tilde{\\mu}, \\tilde{\\sigma}^2): \\tilde{\\mu} \\in \\mathbb{R}, \\tilde{\\sigma}^2 \\in \\mathbb{R}_+ \\big\\}$ denote the class of univariate Gaussian distributions.  Then,\n",
        "\\begin{align}\n",
        "q(x_n; y_n, \\theta, \\phi) &= \\underset{\\mathcal{\\tilde{q} \\in Q}}{\\operatorname{argmin}} \\; \\mathrm{KL}\\big( \\tilde{q}(x_n) \\,\\|\\, \\tilde{p}(x_n; y_n, \\theta, \\phi) \\big) \\\\\n",
        "&\\propto p(x_n; \\theta) \\times \\psi(x_n; y_n, \\phi) \\\\\n",
        "&= \\mathcal{N}(x_n; \\tilde{\\mu}, \\tilde{\\sigma}^2)\n",
        "\\end{align}\n",
        "where\n",
        "\\begin{align}\n",
        "\\tilde{\\mu} &= \\frac{\\tilde{h}}{\\tilde{J}} &\n",
        "\\tilde{\\sigma}^2 &= \\frac{1}{\\tilde{J}} \\\\\n",
        "\\tilde{h} &= \\frac{\\mu}{\\sigma^2} + \\frac{\\hat{\\mu}(y_n, \\phi)}{\\hat{\\sigma}(y_n, \\phi)^2} &\n",
        "\\tilde{J} &= \\frac{1}{\\sigma^2} + \\frac{1}{\\hat{\\sigma}(y_n, \\phi)^2}\n",
        "\\end{align}\n",
        "In this example, the SVAE just boils down to a regular old VAE but with a slightly different parameterization of the posterior.  Still, this will serve as a useful building block for more complex SVAEs.\n",
        "\n",
        "**Note**: We could have parameterized the recognition network to output the _natural_ parameters of the Gaussian potential rather than the _mean_ parameters, as above. Indeed, we started by trying the former! Though both have the same representational capacity, we found that, empirically, it was harder to learn accurate potentials with the natural parameterization than with the mean parameterization.  We use the mean parameters below, and leave a more thorough investigation to the interested reader."
      ]
    },
    {
      "cell_type": "code",
      "metadata": {
        "id": "LQwi6wVHMecf",
        "colab_type": "code",
        "colab": {}
      },
      "source": [
        "class NormalPoissonSVAE(SVAE):\n",
        "\n",
        "    def __init__(self, prior_params):\n",
        "        self.prior_params = prior_params\n",
        "\n",
        "    # Define the generative model\n",
        "    def generate(self, rng, prior_params, decoder_params, batch_size):\n",
        "        rng1, rng2 = jax.random.split(rng, 2)\n",
        "        latents = dists.Normal(**prior_params).sample(seed=rng1, sample_shape=batch_size)\n",
        "        # We'd use TFP's Poisson distribution but there seems to be a sample bug right now\n",
        "        # data = dists.Poisson(softplus(latents)).sample(seed=rng2)\n",
        "        data = jax.random.poisson(rng2, softplus(latents), shape=(batch_size,))\n",
        "        return latents, data\n",
        "\n",
        "    # For comparison, plot the theoretical distribution\n",
        "    def exact_marginal_likelihood(self, data, prior_params):\n",
        "        xs = np.linspace(-20, 20, 10000)\n",
        "        dx = xs[1] - xs[0]\n",
        "        lps = np.column_stack([\n",
        "            dists.Normal(**prior_params).log_prob(xs) + \n",
        "            dists.Poisson(softplus(xs)).log_prob(y)\n",
        "            for y in data])\n",
        "        return np.exp(logsumexp(lps + np.log(dx), axis=0))\n",
        "\n",
        "    def init_parameters(self, rng, data=None):\n",
        "        # Define the recognition network.\n",
        "        # We implement the functions as a split output of a 1-layer MLP\n",
        "        # https://github.com/google/jax/blob/master/jax/experimental/README.md#neural-net-building-with-stax\n",
        "        init_recognize, _recognize = serial(\n",
        "            Dense(50), \n",
        "            Relu,\n",
        "            FanOut(2),\n",
        "            parallel(\n",
        "                Dense(1),\n",
        "                serial(Dense(1), Softplus)\n",
        "                )\n",
        "            )\n",
        "        _, recognition_params = init_recognize(rng, input_shape=(-1, 1))\n",
        "        self._recognize = _recognize\n",
        "        # We don't have decoder parameters for the simple Gaussian Poisson model\n",
        "        decoder_params = None\n",
        "        return self.prior_params, recognition_params, decoder_params\n",
        "\n",
        "    def prior(self, prior_params):\n",
        "        return dists.Normal(**prior_params)\n",
        "\n",
        "    def decode(self, decoder_params, latents):\n",
        "        return dists.Poisson(rate=softplus(latents))\n",
        "\n",
        "    # Stax networks have to take in and output at least 1 dimensional arrays. \n",
        "    # We wrap the recognize function to remove this trailing dimension.\n",
        "    def recognize(self, recognition_params, data):\n",
        "        loc, scale = self._recognize(recognition_params, data.reshape(-1, 1))\n",
        "        return dists.Normal(loc=loc[..., 0], scale=scale[...,0])\n",
        "\n",
        "    # Define the \"posterior inference\" function to compute the \n",
        "    # posterior on x given the prior and the learned potentials.\n",
        "    def pgm_inference(self, prior, potential, initial_posterior=None):\n",
        "        \"\"\"\n",
        "        Given prior parameters (\\mu, \\sigma^2) and potentials\n",
        "        (\\eta_1 and \\eta_2), compute the posterior parameters\n",
        "        (\\tilde{\\mu} and \\tilde{\\sigma^2}).\n",
        "\n",
        "        This function is written to operate on a single datapoint's potentials.\n",
        "        \"\"\"\n",
        "        mu_prior, sigma_prior = prior.loc, prior.scale\n",
        "        mu_lkhd, sigma_lkhd = potential.loc, potential.scale\n",
        "        h_post = mu_prior / sigma_prior**2 + mu_lkhd / sigma_lkhd**2\n",
        "        J_post = 1 / sigma_prior**2 + 1 / sigma_lkhd**2\n",
        "        sigmasq_post = 1 / J_post\n",
        "        mu_post = h_post / J_post\n",
        "        return dists.Normal(loc=mu_post, scale=np.sqrt(sigmasq_post))\n",
        "\n",
        "    def pgm_mstep(self, posterior):\n",
        "        # In this example we are keeping the prior fixed\n",
        "        return self.prior_params"
      ],
      "execution_count": 9,
      "outputs": []
    },
    {
      "cell_type": "markdown",
      "metadata": {
        "id": "71nTkTA_tyuo",
        "colab_type": "text"
      },
      "source": [
        "## Sample some data from the prior"
      ]
    },
    {
      "cell_type": "code",
      "metadata": {
        "id": "5o-G_2dytw_G",
        "colab_type": "code",
        "colab": {
          "base_uri": "https://localhost:8080/",
          "height": 325
        },
        "outputId": "468cfb24-2d29-4f41-a57b-30d1093a18c9"
      },
      "source": [
        "rng = jax.random.PRNGKey(0)\n",
        "prior_params = dict(loc=5.0, scale=3.0)\n",
        "decoder_params = None\n",
        "svae = NormalPoissonSVAE(prior_params)\n",
        "latents, data = svae.generate(rng, prior_params, decoder_params, batch_size=10000)\n",
        "\n",
        "# Plot a histogram of the data\n",
        "ys = np.arange(data.max() + 1)\n",
        "plt.hist(data, bins=ys, alpha=0.5, edgecolor='k', density=True, label=\"empirical\")\n",
        "plt.plot(ys + 0.5, svae.exact_marginal_likelihood(ys, prior_params), ':.r', lw=2, label=\"theory\")\n",
        "plt.xlabel(\"data $y$\")\n",
        "plt.ylabel(\"probability\")\n",
        "plt.legend(loc=\"upper right\")\n",
        "plt.title(\"Data distribution\")\n",
        "sns.despine()"
      ],
      "execution_count": 10,
      "outputs": [
        {
          "output_type": "display_data",
          "data": {
            "image/png": "[encoded data removed]",
            "text/plain": [
              "<Figure size 432x288 with 1 Axes>"
            ]
          },
          "metadata": {
            "tags": []
          }
        }
      ]
    },
    {
      "cell_type": "markdown",
      "metadata": {
        "id": "ifyLkkBHR-zr",
        "colab_type": "text"
      },
      "source": [
        "## Fit the SVAE to the simulated data\n",
        "For now, we'll hold the prior parameters fixed and just focus on learning the paramters of the recognition network."
      ]
    },
    {
      "cell_type": "code",
      "metadata": {
        "id": "epG67p7TkcPz",
        "colab_type": "code",
        "colab": {
          "base_uri": "https://localhost:8080/",
          "height": 66,
          "referenced_widgets": [
            "9db3c60b08f64715a417be9055f7af89",
            "1235f92fd6b14e4fa0a850c055dfddd6",
            "1077d13fc9fe4176abc7c57beaf39307",
            "903d1149adde40e391f04848ab786ec2",
            "1083b1b5cf914e9cb16c18da1b9eb3e8",
            "1f4ed975f4434e88b8879e6da635a807",
            "a6fd3d13317c4c8b8f118af4f4f4a911",
            "a841be5857544690870b89695f371513"
          ]
        },
        "outputId": "b7090cbb-e2aa-4c2c-a0b6-87a19a403545"
      },
      "source": [
        "elbos, kls, (prior_params, recognition_params, decoder_params), posterior = \\\n",
        "    svae.fit(rng, data, num_iters=200)"
      ],
      "execution_count": 11,
      "outputs": [
        {
          "output_type": "display_data",
          "data": {
            "application/vnd.jupyter.widget-view+json": {
              "model_id": "9db3c60b08f64715a417be9055f7af89",
              "version_minor": 0,
              "version_major": 2
            },
            "text/plain": [
              "HBox(children=(FloatProgress(value=0.0, max=200.0), HTML(value='')))"
            ]
          },
          "metadata": {
            "tags": []
          }
        },
        {
          "output_type": "stream",
          "text": [
            "\n"
          ],
          "name": "stdout"
        }
      ]
    },
    {
      "cell_type": "code",
      "metadata": {
        "id": "iNQOxNXftfkv",
        "colab_type": "code",
        "colab": {
          "base_uri": "https://localhost:8080/",
          "height": 301
        },
        "outputId": "73b4c56f-92b7-41a8-bf03-88df9adc3a2c"
      },
      "source": [
        "# Plot the ELBOs and, for comparison, the true marginal likelihood of the data\n",
        "plt.plot(elbos, label=\"ELBO\")\n",
        "marginal_lkhd = np.mean(np.log(svae.exact_marginal_likelihood(np.arange(data.max()+1), prior_params))[data])\n",
        "plt.plot(marginal_lkhd * np.ones(len(elbos)), '-r', lw=2, label=\"$\\\\log p(y; \\\\theta)$\")\n",
        "plt.xlabel(\"iteration\")\n",
        "plt.ylabel(\"log probability\")\n",
        "plt.legend(loc=\"lower right\")\n",
        "sns.despine()"
      ],
      "execution_count": 12,
      "outputs": [
        {
          "output_type": "display_data",
          "data": {
            "image/png": "[encoded data removed]",
            "text/plain": [
              "<Figure size 432x288 with 1 Axes>"
            ]
          },
          "metadata": {
            "tags": []
          }
        }
      ]
    },
    {
      "cell_type": "markdown",
      "metadata": {
        "id": "Qf_OMXCnVgqD",
        "colab_type": "text"
      },
      "source": [
        "Note that there's still a gap between the ELBO and the true marginal likelihood.  This is the **approximation gap**. It can never go to zero because the approximate posterior is constrained to be a Gaussian, while the true posterior is proportional to a Gaussian prior times a Poisson likelihood. "
      ]
    },
    {
      "cell_type": "markdown",
      "metadata": {
        "id": "PxPGiH1jlJyH",
        "colab_type": "text"
      },
      "source": [
        "## Now let's look at the learned potentials\n",
        "\n",
        "Recall that each potential is an exponentiated quadratic function.  Let's compare these to the Poisson likelihood functions.  Remember that the vertical scale doesn't matter for posterior inference&mdash;those are absorbed by the normalizing constant in the posterior."
      ]
    },
    {
      "cell_type": "code",
      "metadata": {
        "id": "RWTXZ_-jlDfP",
        "colab_type": "code",
        "colab": {}
      },
      "source": [
        "# Compute the approximate potentials given various values of y\n",
        "xs = np.linspace(-25, 25, 10000)\n",
        "ys_to_plot = np.array([0, 5, 10, 15])\n",
        "for y in ys_to_plot:\n",
        "    # First plot the (normalized) likelihood\n",
        "    lkhd = svae.decode(decoder_params, xs).prob(y)\n",
        "    h = plt.plot(xs, lkhd, '-', lw=3, label=\"$p(y={} \\mid x)$\".format(y))[0]\n",
        "\n",
        "    # Then plot the learned potential\n",
        "    psi = svae.recognize(recognition_params, y).prob(xs)\n",
        "    plt.plot(xs, psi, ':', color=h.get_color())\n",
        "\n",
        "# Plot sum dummy lines for the potentials\n",
        "plt.plot([0], [0], ':k', label=\"potential\")\n",
        "\n",
        "plt.xlim(-25, 25)\n",
        "plt.xlabel(\"latent variable $x$\")\n",
        "plt.ylabel(\"likelihood / potential\")\n",
        "plt.legend(fontsize=10, loc=\"upper right\")"
      ],
      "execution_count": null,
      "outputs": []
    },
    {
      "cell_type": "markdown",
      "metadata": {
        "id": "7U9A4Nk1eTnJ",
        "colab_type": "text"
      },
      "source": [
        "For the most part, the potentials do a pretty good job of approximating the likelihood.  They can't do a perfect job since the likelihoods aren't Gaussian! (That's the approximation gap we were talking about.) In some cases, like the blue curve showing the likelihood for $y=0$, the approximation is way off &mdash; you simply can't approximate that function with a Gaussian potential very well. Keep that in mind for the example below!"
      ]
    },
    {
      "cell_type": "markdown",
      "metadata": {
        "id": "tX6F0eshWTGU",
        "colab_type": "text"
      },
      "source": [
        "# A more interesting example: Gaussian state space models with Poisson observations\n",
        "\n",
        "Now let's extend the example above to a sequence of Gaussian latent variables, each with Poisson observations.  We use these models all the time in neuroscience as models of neural spike trains, for example.\n",
        "\n",
        "Let \n",
        "$\\mathbf{y}_n = (y_{n,1}, \\ldots, y_{n,T}) \\in \\mathbb{N}^T$ denote the $n$-th datapoint.  It is a length-$T$ vector of counts.  Likewise, let $\\mathbf{x}_n = (x_{n,1}, \\ldots, x_{n,T}) \\in \\mathbb{R}^T$ denote a corresponding vector of latent variables associated with this datapoint.  The generative model is,\n",
        "\\begin{align}\n",
        "\\mathbf{x}_n &\\sim \\mathcal{N}(\\mu, \\Sigma) \\\\\n",
        "y_{n,t} &\\sim \\mathrm{Po}\\big(f(x_{n,t}) \\big) \\quad \\text{ for } t=1,\\ldots, T\n",
        "\\end{align}\n",
        "where $\\Sigma$ defines the covariance of the length-$T$ vector of latent variables.\n",
        "\n",
        "As above, we will use a recognition network to approximate the Poisson likelihood with a learned Gaussian potential.  Moreover, we will share the parameters of the recognition network across all $T$ observations, reflecting the fact that the likelihood is the same for all time-steps.  Then the approximate posterior distribution is,\n",
        "\\begin{align}\n",
        "q(\\mathbf{x}_n; \\mathbf{y}_n, \\phi) \n",
        "&\\propto \\mathcal{N}(\\mathbf{x}_n; \\mu, \\Sigma) \\prod_{t=1}^T \\mathcal{N}\\big(x_{n,t}; \\hat{\\mu}(y_{n,t}, \\phi), \\hat{\\sigma}(y_{n,t}, \\phi)^2 \\big)\n",
        "\\end{align}\n",
        "where $\\hat{\\mu}$ and $\\hat{\\sigma}$ are again neural networks with weights $\\phi$.\n",
        "\n",
        "The approximate posterior distribution can still be computed in closed form,\n",
        "\\begin{align}\n",
        "q(x; y_n, \\theta, \\phi) &= \\mathcal{N}(\\tilde{\\mu}, \\tilde{\\Sigma}) \\\\\n",
        "\\tilde{h} &= \\Sigma^{-1} \\mu + \\sum_{t=1}^T \\frac{\\hat{\\mu}(y_{n,t}, \\phi)}{\\hat{\\sigma}(y_{n,t}, \\phi)^2} \\cdot 1_t &\n",
        "\\tilde{J} &= \\Sigma^{-1} + \\sum_{t=1}^T \\frac{1}{\\hat{\\sigma}(y_{n,t}, \\phi)^2} \\cdot 1_t 1_t^\\top \\\\\n",
        "\\tilde{\\mu} &= \\tilde{J}^{-1} \\tilde{h} &\n",
        "\\tilde{\\Sigma} &= \\tilde{J}^{-1}\n",
        "\\end{align}\n",
        "where $1_t$ is a one-hot length $T$ vector with a 1 in the $t$-th position."
      ]
    },
    {
      "cell_type": "code",
      "metadata": {
        "id": "vYfwc89XqFET",
        "colab_type": "code",
        "colab": {}
      },
      "source": [
        "class MultivariateNormalPoissonSVAE(SVAE):\n",
        "\n",
        "    def __init__(self, prior_params):\n",
        "        self.prior_params = prior_params\n",
        "\n",
        "    # Define the generative model\n",
        "    def generate(self, rng, prior_params, decoder_params, batch_size):\n",
        "        rng1, rng2 = jax.random.split(rng, 2)\n",
        "        latents = dists.MultivariateNormalFullCovariance(**prior_params)\\\n",
        "            .sample(seed=rng1, sample_shape=batch_size)\n",
        "        # We'd use TFP's Poisson distribution but there seems to be a sample bug right now\n",
        "        # data = dists.Poisson(softplus(latents)).sample(seed=rng2)\n",
        "        data = jax.random.poisson(rng2, softplus(latents), \n",
        "                                shape=(batch_size, prior_params[\"loc\"].size))\n",
        "        return latents, data\n",
        "\n",
        "    def init_parameters(self, rng, data=None):\n",
        "        # We'll use the same recognition network structure as above.\n",
        "        # It takes in a batch of counts and outputs a mean and covariance\n",
        "        # for the potential associated with each count.\n",
        "        init_recognize, _recognize = serial(\n",
        "            Dense(50), \n",
        "            Relu,\n",
        "            FanOut(2),\n",
        "            parallel(\n",
        "                Dense(1),\n",
        "                serial(Dense(1), Softplus)\n",
        "                )\n",
        "            )\n",
        "        _, recognition_params = init_recognize(rng, input_shape=(-1, 1))\n",
        "        self._recognize = _recognize\n",
        "\n",
        "        # We don't have decoder parameters for this simple model\n",
        "        decoder_params = None\n",
        "        return self.prior_params, recognition_params, decoder_params\n",
        "\n",
        "    def recognize(self, recognition_params, data):\n",
        "        shp = data.shape\n",
        "        loc, scale = self._recognize(recognition_params, data.reshape(-1, 1))\n",
        "        return dists.Normal(loc.reshape(shp), scale.reshape(shp))\n",
        "\n",
        "    def prior(self, prior_params):\n",
        "        return dists.MultivariateNormalFullCovariance(**prior_params)\n",
        "\n",
        "    def decode(self, decoder_params, latents):\n",
        "        return dists.Independent(dists.Poisson(rate=softplus(latents)),\n",
        "                                 reinterpreted_batch_ndims=1)\n",
        "\n",
        "    # Define the \"posterior inference\" function to compute the \n",
        "    # posterior on x given the prior and the learned potentials.\n",
        "    def pgm_inference(self, prior, potential, initial_posterior=None):\n",
        "        \"\"\"\n",
        "        Given prior parameters (\\mu, \\sigma^2) and potentials\n",
        "        (\\eta_1 and \\eta_2), compute the posterior parameters\n",
        "        (\\tilde{\\mu} and \\tilde{\\sigma^2}).\n",
        "\n",
        "        This function is written to operate on a single datapoint's potentials.\n",
        "        \"\"\"\n",
        "        batch_size, dim = potential.loc.shape\n",
        "        # TODO: This could probably be a lot faster with Cholesky factors\n",
        "        mu_prior, Sigma_prior = prior.loc, prior.covariance()\n",
        "        J_prior = np.linalg.inv(Sigma_prior)\n",
        "        mu_lkhd, sigma_lkhd = potential.loc, potential.scale\n",
        "        h_post = J_prior @ mu_prior + mu_lkhd / sigma_lkhd**2\n",
        "        J_post = vmap(lambda d: J_prior + np.diag(d))(1 / sigma_lkhd**2)\n",
        "        Sigma_post = np.linalg.inv(J_post)\n",
        "        mu_post = np.einsum('nij,nj->ni', Sigma_post, h_post)\n",
        "        return dists.MultivariateNormalFullCovariance(mu_post, Sigma_post)\n",
        "\n",
        "    def pgm_mstep(self, posterior):\n",
        "        # In this example we are keeping the prior fixed\n",
        "        return self.prior_params"
      ],
      "execution_count": null,
      "outputs": []
    },
    {
      "cell_type": "markdown",
      "metadata": {
        "id": "7g5DTaihnjss",
        "colab_type": "text"
      },
      "source": [
        "Notice that when the latents go below zero, the Poisson rate goes to effectively zero and thus the observed counts do as well."
      ]
    },
    {
      "cell_type": "markdown",
      "metadata": {
        "id": "qF86cwLrVHFf",
        "colab_type": "text"
      },
      "source": [
        "## Sample some data from the prior"
      ]
    },
    {
      "cell_type": "code",
      "metadata": {
        "id": "OMwzcg59t_DN",
        "colab_type": "code",
        "colab": {}
      },
      "source": [
        "rng = jax.random.PRNGKey(0)\n",
        "data_dim = 30\n",
        "kernel = lambda t1, t2: 20 * np.exp(-0.5 * (t1 - t2)**2 / 4**2)\n",
        "ts = np.arange(data_dim)\n",
        "prior_params = dict(\n",
        "    loc=5 * np.ones(data_dim), \n",
        "    covariance_matrix=kernel(ts[:, None], ts[None, :]) + 1e-1 * np.eye(data_dim))\n",
        "decoder_params = None\n",
        "svae = MultivariateNormalPoissonSVAE(prior_params)\n",
        "latents, data = svae.generate(rng, prior_params, decoder_params, batch_size=1000)\n",
        "\n",
        "# Plot one datapoint (i.e. time series)\n",
        "ind = 1\n",
        "plt.plot(np.zeros(data_dim), ':k', lw=2)\n",
        "plt.plot(latents[ind], '-', lw=3, label=\"latents $x_n$\")\n",
        "plt.plot(data[ind], 'ro', label=\"data $y_n$\")\n",
        "plt.xlabel(\"time $t$\")\n",
        "plt.ylabel(\"latent $x$ and data $y$\")\n",
        "plt.legend(loc=\"lower right\")\n",
        "plt.title(\"Example datapoint\")\n",
        "sns.despine()"
      ],
      "execution_count": null,
      "outputs": []
    },
    {
      "cell_type": "markdown",
      "metadata": {
        "id": "bKSNGUw3VMPL",
        "colab_type": "text"
      },
      "source": [
        "## Maximize the ELBO with SGD"
      ]
    },
    {
      "cell_type": "code",
      "metadata": {
        "id": "S3WXxz-QtStL",
        "colab_type": "code",
        "colab": {}
      },
      "source": [
        "elbos, kls, (prior_params, recognition_params, decoder_params), posterior = \\\n",
        "    svae.fit(rng, data, num_iters=200)"
      ],
      "execution_count": null,
      "outputs": []
    },
    {
      "cell_type": "code",
      "metadata": {
        "id": "iZpfN1g_xUcA",
        "colab_type": "code",
        "colab": {}
      },
      "source": [
        "# Plot the ELBOs.  Here, we don't have the luxury of knowing the true marginal\n",
        "# likelihood, unfortunately.\n",
        "plt.plot(elbos, label=\"ELBO\")\n",
        "plt.xlabel(\"iteration\")\n",
        "plt.ylabel(\"log probability\")\n",
        "plt.legend(loc=\"lower right\")\n",
        "sns.despine()"
      ],
      "execution_count": null,
      "outputs": []
    },
    {
      "cell_type": "markdown",
      "metadata": {
        "id": "H0toHXENVRVG",
        "colab_type": "text"
      },
      "source": [
        "## Look at the inferred posterior distribution"
      ]
    },
    {
      "cell_type": "code",
      "metadata": {
        "id": "O97jVAmpJNJ9",
        "colab_type": "code",
        "colab": {}
      },
      "source": [
        "# Compute the approximate potentials \n",
        "posteriors = svae.infer((prior_params, recognition_params, decoder_params), data)\n",
        "\n",
        "# Plot one datapoint (i.e. time series) and its posterior\n",
        "ind = 2\n",
        "plt.plot(np.zeros(data_dim), ':k', lw=2)\n",
        "plt.plot(latents[ind], '-', lw=3, label=\"latents $x_n$\")\n",
        "plt.plot(data[ind], 'ro', label=\"data $y_n$\")\n",
        "\n",
        "mu_post, Sigma_post = posteriors.loc[ind], posteriors.covariance()[ind]\n",
        "h = plt.fill_between(np.arange(data_dim),\n",
        "                 mu_post - 2 * np.sqrt(np.diag(Sigma_post)),\n",
        "                 mu_post + 2 * np.sqrt(np.diag(Sigma_post)),\n",
        "                 alpha=0.25, color='k')\n",
        "plt.plot(mu_post, color='k', lw=3, label=\"$q(x_n; y_n)$\")\n",
        "\n",
        "plt.xlabel(\"time $t$\")\n",
        "plt.ylabel(\"latent $x$ and data $y$\")\n",
        "plt.legend(loc=\"lower left\")\n",
        "plt.title(\"Example datapoint and posterior\")\n",
        "sns.despine()"
      ],
      "execution_count": null,
      "outputs": []
    },
    {
      "cell_type": "markdown",
      "metadata": {
        "id": "HdJ_BsJz0A7X",
        "colab_type": "text"
      },
      "source": [
        "Note how the inferred latents are underestimating the posterior uncertainty when $x < 0$.  This is the approximation gap in action! Recall the blue curves from above? The learned potential cannot mimic the true likelihood function, which does not fall off for negative $x$ when $y = 0$.  The effect is that the SVAE is overly confident about the posterior when the counts are zero.  It reports a reasonable mean, but the variance is way too small.  We're working on ways to address this approximation gap."
      ]
    },
    {
      "cell_type": "markdown",
      "metadata": {
        "id": "O3Ij2eGz5rKp",
        "colab_type": "text"
      },
      "source": [
        "# Final Example: A Gaussian Mixture with Neural Network Observations"
      ]
    },
    {
      "cell_type": "markdown",
      "metadata": {
        "id": "d0AbauOab0FD",
        "colab_type": "text"
      },
      "source": [
        "### Generate a Pinwheel Dataset"
      ]
    },
    {
      "cell_type": "code",
      "metadata": {
        "id": "AKCXIUOGV3aB",
        "colab_type": "code",
        "colab": {
          "base_uri": "https://localhost:8080/",
          "height": 397
        },
        "outputId": "613ab0bc-961d-4582-d63d-4e207fe87c89"
      },
      "source": [
        "# Fix hyperparameters\n",
        "data_dim = 2\n",
        "\n",
        "def sample_pinwheel(rng, num_samples, num_clusters=5, twist_rate=0.5, \n",
        "                    distance=1.5, length=0.1, width=0.01):    \n",
        "    # Initialize the untwisted clusters\n",
        "    angles = np.linspace(0, 2 * np.pi, num_clusters, endpoint=False)\n",
        "    perp_dirs = np.zeros((num_clusters, 2))\n",
        "    locs = np.column_stack((np.sin(angles), np.cos(angles)))\n",
        "    perp_dirs = np.column_stack((np.cos(angles), -np.sin(angles)))\n",
        "\n",
        "    covs = np.einsum(\"ij,ik->ijk\", locs, locs) * length \\\n",
        "        + np.einsum(\"ij,ik->ijk\", perp_dirs, perp_dirs) * width\n",
        "    locs *= distance\n",
        "\n",
        "    # Sample the data\n",
        "    def sample_one(key):\n",
        "        key1, key2 = jax.random.split(key, 2)\n",
        "        label = jax.random.choice(key1, num_clusters)\n",
        "        mean = np.take(locs, label, axis=0)\n",
        "        cov = np.take(covs, label, axis=0)\n",
        "        latent = dists.MultivariateNormalFullCovariance(mean, cov).sample(seed=key2)\n",
        "\n",
        "        # Twist the data\n",
        "        length = np.linalg.norm(latent)\n",
        "        angle = length * twist_rate\n",
        "        rot_matrix = np.array([[np.cos(angle), np.sin(angle)],\n",
        "                               [-np.sin(angle), np.cos(angle)]])\n",
        "        datapoint = rot_matrix @ latent\n",
        "\n",
        "        return label, latent, datapoint\n",
        "\n",
        "    return lax.map(sample_one, jax.random.split(rng, num_samples))\n",
        "\n",
        "batch_size = 10000\n",
        "num_clusters = 5\n",
        "labels, latents, data = sample_pinwheel(jax.random.PRNGKey(0), batch_size, num_clusters)\n",
        "\n",
        "fig, axs = plt.subplots(1, 2, sharex=True, sharey=True, figsize=(12, 8))\n",
        "for k in range(num_clusters):\n",
        "    axs[0].scatter(latents[labels == k, 0], latents[labels == k, 1], s=2)\n",
        "    axs[1].scatter(data[labels == k, 0], data[labels == k, 1], s=2)\n",
        "\n",
        "axs[0].set_title(\"continuous latents data\")\n",
        "axs[1].set_title(\"pinwheel data\")\n",
        "\n",
        "for ax in axs:\n",
        "    ax.set_aspect('equal')\n",
        "    ax.set_xlabel(\"dim 1\")\n",
        "    ax.set_ylabel(\"dim 2\")\n",
        "    sns.despine()"
      ],
      "execution_count": 13,
      "outputs": [
        {
          "output_type": "display_data",
          "data": {
            "image/png": "[encoded data removed]",
            "text/plain": [
              "<Figure size 864x576 with 2 Axes>"
            ]
          },
          "metadata": {
            "tags": []
          }
        }
      ]
    },
    {
      "cell_type": "markdown",
      "metadata": {
        "id": "ilwlSZU7bCFt",
        "colab_type": "text"
      },
      "source": [
        "### Specify the generative model and derive the inference algorithm\n",
        "\n",
        "We'll model this with an SVAE in which the PGM prior is a Gaussian mixture model, and the neural network serves to warp the Gaussian components into pinwheels.\n",
        "\n",
        "**Generative Model:**\n",
        "Let $z_n \\in \\{1, \\ldots, K\\}$ denote discrete class of data point $n$, and $x_n \\in \\mathbb{R}^2$ a corresponding 2D continuous latent variable.  Finally, let $y_n \\in \\mathbb{R}^2$ denote the observed datapoint.  We assume the following generative model:\n",
        "\\begin{align}\n",
        "z_n &\\sim \\mathrm{Cat}(\\pi) \\\\\n",
        "x_n &\\sim \\mathcal{N}(\\mu_{z_n}, \\Sigma_{z_n}) \\\\\n",
        "y_n &\\sim \\mathcal{N}\\big(f(x_n; \\gamma), \\, \\sigma^2 I\\big),\n",
        "\\end{align}\n",
        "where $f: \\mathbb{R}^2 \\to \\mathbb{R}^2$ is the learned warping function, and it is implemented by a neural network with weights $\\gamma$.  The PGM prior parameters consist of $\\theta = \\big(\\pi, \\{\\mu_k, \\Sigma_k\\}_{k=1}^K\\big)$.\n",
        "\n",
        "**Approximate Posterior:**\n",
        "Now the SVAE inference step is a bit more interesting.  Recall that the posterior is implicitly defined as the minimizer of the surrogate KL,\n",
        "\\begin{align}\n",
        "q(x_n, z_n; y_n, \\phi) &= \\underset{\\mathcal{\\tilde{q} \\in Q}}{\\operatorname{argmin}} \\; \\mathrm{KL}\\big( \\tilde{q}(z_n, x_n) \\,\\|\\, \\tilde{p}(z_n, x_n; y_n, \\theta, \\phi) \\big)\n",
        "\\end{align}\n",
        "where\n",
        "\\begin{align}\n",
        "\\tilde{p}(z_n, x_n; y_n, \\theta, \\phi) &\\propto \\overbrace{\\mathrm{Cat}(z_n; \\pi) \\times \\mathcal{N}(x_n; \\mu_{z_n}, \\Sigma_{z_n})}^{\\textsf{PGM prior}} \\times \\underbrace{\\psi(x_n; y_n, \\phi)}_{\\textsf{conjugate potential}}.\n",
        "\\end{align}\n",
        "Since the prior is conditionally Gaussian in $x_n$, we choose the conjugate potential to be Gaussian as well.\n",
        "\\begin{align}\n",
        "\\psi(x_n; y_n, \\phi) &= \\mathcal{N}(x_n; \\hat{\\mu}(y_n, \\phi), \\hat{\\sigma}^2 I)\n",
        "\\end{align}\n",
        "For simplicity, we fix its covariance to $\\hat{\\sigma}^2 I$, though this could easily be output by the network too.\n",
        "\n",
        "Finally, we choose $\\mathcal{Q}$ to be the mean field family, \n",
        "\\begin{align}\n",
        "\\mathcal{Q} &= \\left \\{ \\mathrm{Cat}(z; \\tilde{\\pi}) \\times \\mathcal{N}(x; \\tilde{\\mu}, \\tilde{\\Sigma}) : \\tilde{\\pi} \\in \\Delta_K, \\tilde{\\mu} \\in \\mathbb{R}^2, \\tilde{\\Sigma} \\in \\mathbb{R}^2_{\\succ 0} \\right\\}\n",
        "\\end{align}\n",
        "We solve this surrogate variational inference problem via coordinate ascent.\n",
        "\n",
        "### Derive the CAVI updates\n",
        "\n",
        "The mean field coordinate ascent updates are textbook.  See [[Blei et al (2017)](https://www.tandfonline.com/doi/full/10.1080/01621459.2017.1285773)] for details.  Basically, the conditional conjugacy of the PGM prior leads to closed form updates that should converge extremely quickly for this model.  \n",
        "\n",
        "**Discrete latent variable update**:\n",
        "\n",
        "The mean field coordinate ascent update for the discrete state is,\n",
        "\\begin{align}\n",
        "q(z_n; \\tilde{\\pi}) &\\propto \n",
        "\\exp \\left\\{\\mathbb{E}_{q(x_n; \\tilde{\\mu}, \\tilde{\\Sigma})}\\left[ \\log \\mathrm{Cat}(z_n; \\pi) + \\log \\mathcal{N}(x_n; \\mu_{z_n}, \\Sigma_{z_n} \\right] \\right \\} \\\\\n",
        "\\implies \\tilde{\\pi}_k &\\propto \\exp \\left\\{\\log \\pi_k + \\mathbb{E}_{q(x_n; \\tilde{\\mu}, \\tilde{\\Sigma})}\\left[\\log \\mathcal{N}(x_n \\mid \\mu_{k}, \\Sigma_{k}) \\right] \\right \\} \\\\\n",
        "\\end{align}\n",
        "where $\\mathbb{E}_{q(x_n; \\tilde{\\mu}, \\tilde{\\Sigma})}\\left[\\log \\mathcal{N}(x_n \\mid \\mu_k, \\Sigma_k) \\right]$ is the negative cross entropy between the variational posterior and the conditional distribuion.\n",
        "\n",
        "**Continuous latent variable update**:\n",
        "\n",
        "The mean field coordinate ascent update for the continuous latent variable is,\n",
        "\\begin{align}\n",
        "q(x_n; \\tilde{\\mu}, \\tilde{\\Sigma})\n",
        "&\\propto \\exp \\left\\{\\mathbb{E}_{q(z_n; \\tilde{\\pi})}\\left[\\log p(x_n \\mid z_n) \\right] + \\log \\psi(x_n; y_n, \\phi) \\right \\} \\\\\n",
        "&= \\mathcal{N}(x_n; \\tilde{\\mu}, \\tilde{\\Sigma}) \n",
        "\\end{align}\n",
        "where\n",
        "\\begin{align}\n",
        "\\tilde{\\Sigma} &= \\tilde{J}^{-1} & \\tilde{\\mu} &= \\tilde{J}^{-1} \\tilde{h} \\\\\n",
        "\\tilde{J} &= \\mathbb{E}_{q(z_n; \\tilde{\\pi})}\\left[\\Sigma_{z_n}^{-1} \\right] + \\hat{\\sigma}^{-2} I &\n",
        "\\tilde{h} &= \\mathbb{E}_{q(z_n; \\tilde{\\pi})} \\left[\\Sigma_{z_n}^{-1} \\mu_{z_n} \\right] + \\hat{\\sigma}^{-2} \\hat{\\mu}(y_n, \\phi)\n",
        "\\end{align}\n",
        "and\n",
        "\\begin{align}\n",
        "\\mathbb{E}_{q(z_n; \\tilde{\\pi})}\\left[\\Sigma_{z_n}^{-1} \\mu_{z_n} \\right]\n",
        "&=\n",
        "\\sum_{k=1}^K \\tilde{\\pi}_k \\Sigma_{k}^{-1} \\mu_k\n",
        "\\\\\n",
        "\\mathbb{E}_{q(z_n; \\tilde{\\pi})}\\left[\\Sigma_{z_n}^{-1} \\right]\n",
        "&=\n",
        "\\sum_{k=1}^K \\tilde{\\pi}_k \\Sigma_{k}^{-1}\n",
        "\\end{align}\n",
        "\n",
        "CAVI is simply a **fixed-point algorithm** that iteratively applies these two updates until the parameters converge.\n",
        "\n",
        "### Compute the ELBO given the variational posterior\n",
        "\n",
        "As above, the ELBO can be written as the expected log likelihood minus the KL to the prior, which simplifies as,\n",
        "\\begin{align}\n",
        "\\mathcal{L} &= \\mathbb{E}_{q(z)q(x)} \\left[\\log p(y \\mid x) + \\log \\frac{p(z)}{q(z)} + \\log \\frac{p(x \\mid z)}{q(x)}\\right] \\\\\n",
        "&= \\mathbb{E}_{q(x)} \\left[ \\log p(y \\mid x) \\right] \n",
        "-\\mathrm{KL}(q(z) \\, \\| \\, p(z)) \n",
        "- \\mathbb{E}_{q(z)} \\left[ \\mathrm{KL}(q(x) \\, \\| \\, p(x \\mid z)) \\right].\n",
        "\\end{align}\n",
        "Each of these KL divergences is available in closed form.\n"
      ]
    },
    {
      "cell_type": "code",
      "metadata": {
        "id": "IvBat0irYNQO",
        "colab_type": "code",
        "colab": {}
      },
      "source": [
        "# Make a simple wrapper for combined Categorical and Multivariate Normal posterior\n",
        "# TFP has JointDistribution's for this purpose, but it seems a bit tricky to get\n",
        "# them to work as PyTrees\n",
        "class CategoricalAndGaussian:\n",
        "    def __init__(self, q_z, q_x):\n",
        "        self.q_z, self.q_x = q_z, q_x\n",
        "    \n",
        "    def sample(self, seed, sample_shape=(1,)):\n",
        "        rng1, rng2 = jax.random.split(seed, 2)\n",
        "        return self.q_z.sample(seed=rng1, sample_shape=sample_shape), \\\n",
        "               self.q_x.sample(seed=rng2, sample_shape=sample_shape)\n",
        "\n",
        "    def mean(self):\n",
        "        return self.q_z.probs_parameter(), self.q_x.loc\n",
        "\n",
        "    def kl_divergence(self, other):\n",
        "        # Assume \"other\" is a prior distribution given as a tuple\n",
        "        # p(z), [p(x | z=1), p(x | z=2, ...)]\n",
        "        p_z, p_xs = other\n",
        "        \n",
        "        # KL[q(z) || p(z)]\n",
        "        z_kl = self.q_z.kl_divergence(p_z)\n",
        "\n",
        "        # E_q(z)[KL[q(x) || p(x | z)]]\n",
        "        x_kls = np.column_stack([self.q_x.kl_divergence(p_x) for p_x in p_xs])\n",
        "        return z_kl + np.average(x_kls, axis=1, weights=self.q_z.probs_parameter())\n",
        "\n",
        "\n",
        "register_pytree_node(\n",
        "    CategoricalAndGaussian,\n",
        "    lambda value: ((value.q_z, value.q_x), None),\n",
        "    lambda aux_data, children: CategoricalAndGaussian(*children)\n",
        ")"
      ],
      "execution_count": 14,
      "outputs": []
    },
    {
      "cell_type": "markdown",
      "metadata": {
        "id": "Y0YJx0bE5Y6Q",
        "colab_type": "text"
      },
      "source": [
        "### Implement the model"
      ]
    },
    {
      "cell_type": "code",
      "metadata": {
        "id": "2-bEEbMO58OT",
        "colab_type": "code",
        "colab": {}
      },
      "source": [
        "class GMMSVAE(SVAE):\n",
        "\n",
        "    def __init__(self, data_dim, num_clusters):\n",
        "        self.data_dim = data_dim\n",
        "        self.num_clusters = num_clusters\n",
        "\n",
        "    # Define the generative model\n",
        "    def sample(self, rng, prior_params, decoder_params, sample_shape):\n",
        "        p_z, p_xs = self.prior(prior_params)\n",
        "        rng1, rng2, rng3 = jax.random.split(rng, 3)\n",
        "        \n",
        "        zs = p_z.sample(sample_shape, rng1)\n",
        "        means = np.take(np.array([p_x.loc for p_x in p_xs]), zs, axis=0)\n",
        "        covs = np.take(np.array([p_x.covariance() for p_x in p_xs]), zs, axis=0)\n",
        "        xs = dists.MultivariateNormalFullCovariance(means, covs).sample(seed=rng2)\n",
        "        p_y = self.decode(decoder_params, (zs, xs))\n",
        "        ys = p_y.sample(seed=rng3)\n",
        "        return zs, xs, ys\n",
        "\n",
        "    def init_parameters(self, rng, data=None):\n",
        "        num_clusters, data_dim = self.num_clusters, self.data_dim\n",
        "        rng_prior, rng_decoder, rng_recongition = jax.random.split(rng, 3)\n",
        "        \n",
        "        # Initialize the prior\n",
        "        rng_means = jax.random.split(rng_prior, num_clusters)\n",
        "        p_z_params = dict(probs=np.ones(num_clusters) / num_clusters)\n",
        "        p_x_params = [dict(loc=jax.random.normal(r, shape=(data_dim,)), \n",
        "                           covariance_matrix=0.1 * np.eye(data_dim))\n",
        "                      for r in rng_means]\n",
        "        prior_params = p_z_params, p_x_params\n",
        "        \n",
        "        # Specify the weight initialization\n",
        "        W_init = nn_init.uniform(0.01)\n",
        "\n",
        "        # Implement the decoder f: x -> E[y] with a residual network\n",
        "        init_decode, self._decode = serial(\n",
        "            FanOut(2),\n",
        "            parallel(\n",
        "                serial(\n",
        "                    Dense(50, W_init=W_init, b_init=W_init),\n",
        "                    Relu, \n",
        "                    Dense(data_dim, W_init=W_init, b_init=W_init)),\n",
        "                Identity\n",
        "            ),\n",
        "            FanInSum\n",
        "        )\n",
        "        _, decoder_params = init_decode(rng_decoder, input_shape=(-1, data_dim))\n",
        "        # log_decoder_varaiance = np.log(1e-2)\n",
        "\n",
        "        # Implement the recongition network with a residual network as well\n",
        "        init_recognize, self._recognize = serial(\n",
        "            FanOut(2),\n",
        "            parallel(\n",
        "                serial(\n",
        "                    Dense(50, W_init=W_init, b_init=W_init),\n",
        "                    Relu, \n",
        "                    Dense(data_dim, W_init=W_init, b_init=W_init)\n",
        "                    ),\n",
        "                Identity\n",
        "            ),\n",
        "            FanInSum\n",
        "        )\n",
        "        _, recognition_params = init_recognize(rng_recongition, input_shape=(-1, data_dim))\n",
        "        log_recognition_variance = np.log(1e-1)\n",
        "\n",
        "        return prior_params, \\\n",
        "               (recognition_params, log_recognition_variance), \\\n",
        "               decoder_params\n",
        "\n",
        "    def init_posterior(self, rng, prior_params, recognition_params, data):\n",
        "        num_data = data.shape[0]\n",
        "        num_clusters = self.num_clusters\n",
        "        q_z = dists.Categorical(logits=-np.log(num_clusters) * np.ones((num_data, num_clusters)))\n",
        "        q_x = self.recognize(recognition_params, data)\n",
        "        # Broadcast the covariance over the data dimension\n",
        "        loc, cov = q_x.loc, q_x.covariance()\n",
        "        cov = cov[None, :, :].repeat(len(data), axis=0)\n",
        "        q_x = dists.MultivariateNormalFullCovariance(loc, cov)\n",
        "        return CategoricalAndGaussian(q_z, q_x)\n",
        "\n",
        "    def prior(self, prior_params):\n",
        "        # Return the categorical and each mixture component distribution\n",
        "        categorical_params, mixture_params = prior_params\n",
        "        return dists.Categorical(**categorical_params), \\\n",
        "               [dists.MultivariateNormalFullCovariance(**prms) for prms in mixture_params]\n",
        "\n",
        "    def decode(self, decoder_params, latents):\n",
        "        z, x = latents\n",
        "        loc = self._decode(decoder_params, x)\n",
        "        # Hard code the decoder covariance\n",
        "        covariance = 1e-4 * np.eye(self.data_dim)\n",
        "        return dists.MultivariateNormalFullCovariance(loc, covariance)\n",
        "\n",
        "    # Stax networks have to take in and output at least 1 dimensional arrays. \n",
        "    # We wrap the recognize function to remove this trailing dimension.\n",
        "    def recognize(self, recognition_params, data):\n",
        "        recognition_params, log_recognition_variance = recognition_params\n",
        "        loc = self._recognize(recognition_params, data)\n",
        "        cov = np.exp(log_recognition_variance) * np.eye(self.data_dim)\n",
        "        return dists.MultivariateNormalFullCovariance(loc, cov)\n",
        "\n",
        "    def pgm_inference(self, prior, potential, initial_posterior=None, max_iter=5):\n",
        "        p_z, p_xs = prior\n",
        "        \n",
        "        def _cavi_discrete(q_x):\n",
        "            logits = np.log(p_z.probs)\n",
        "            logits -= np.column_stack([q_x.cross_entropy(p_x) for p_x in p_xs])\n",
        "            logits -= logsumexp(logits, axis=1, keepdims=True)\n",
        "            return dists.Categorical(logits=logits)\n",
        "\n",
        "        def _cavi_continuous(q_z):\n",
        "            means = np.array([p_x.loc for p_x in p_xs])\n",
        "            covariances = np.array([p_x.covariance() for p_x in p_xs])\n",
        "\n",
        "            # First compute expected prior params\n",
        "            J_prior = np.einsum('nk, kij->nij', q_z.probs_parameter(), np.linalg.inv(covariances))\n",
        "            h_prior = np.einsum('nk, ki->ni', q_z.probs_parameter(), np.linalg.solve(covariances, means))\n",
        "\n",
        "            # Then compute effective likelihood\n",
        "            J_lkhd = np.linalg.inv(potential.covariance())\n",
        "            # h_lkhd = np.linalg.solve(potential.covariance(), potential.loc)\n",
        "            h_lkhd = np.einsum('ij,nj->ni', J_lkhd, potential.loc)\n",
        "\n",
        "            # Combine in posterior\n",
        "            Sigma_post = np.linalg.inv(J_prior + J_lkhd)\n",
        "            mu_post = np.einsum('nij, nj->ni', Sigma_post, h_prior + h_lkhd)\n",
        "            return dists.MultivariateNormalFullCovariance(mu_post, Sigma_post)\n",
        "\n",
        "        def _cavi_step(posterior, dummy):\n",
        "            q_z = _cavi_discrete(posterior.q_x)\n",
        "            q_x = _cavi_continuous(q_z)\n",
        "            return CategoricalAndGaussian(q_z, q_x), None\n",
        "\n",
        "        if initial_posterior is None:\n",
        "            num_data = potential.loc.shape[0]\n",
        "            num_clusters = self.num_clusters\n",
        "            q_z = dists.Categorical(logits=-np.log(num_clusters) * np.ones((num_data, num_clusters)))\n",
        "            loc = potential.loc\n",
        "            cov = potential.covariance()\n",
        "            q_x = dists.MultivariateNormalFullCovariance(loc, cov[None, :, :].repeat(len(data), axis=0))\n",
        "            initial_posterior = CategoricalAndGaussian(q_z, q_x)\n",
        "\n",
        "        # posterior, _ = lax.scan(_cavi_step, initial_posterior, None, length=max_iter)\n",
        "\n",
        "        # Scan sometimes crashes with nans for no apparent reason\n",
        "        posterior = initial_posterior\n",
        "        for _ in range(max_iter):\n",
        "            posterior, _ = _cavi_step(posterior, None)\n",
        "        return posterior\n",
        "\n",
        "    def pgm_mstep(self, posterior, kappa0=1e-4, mu0=0, Psi0=1e-4, nu0=1e-4):\n",
        "        q_z = posterior.q_z\n",
        "        q_x = posterior.q_x\n",
        "\n",
        "        # Update the cluster probabilities\n",
        "        q_z_probs = q_z.probs_parameter()\n",
        "        p_z = dists.Categorical(probs=q_z_probs.sum(axis=0) / q_z_probs.shape[0])\n",
        "\n",
        "        # Helper function to compute posterior mode of normal-inverse Wishart dist\n",
        "        def niw_posterior_mode(n, Ex, ExxT):\n",
        "            kappa = kappa0 + n\n",
        "            mu = (mu0 + Ex) / kappa\n",
        "            Psi = Psi0 * np.eye(data_dim) + ExxT - kappa * np.outer(mu, mu)\n",
        "            nu = nu0 + n\n",
        "            return dists.MultivariateNormalFullCovariance(mu, Psi / nu)\n",
        "\n",
        "        # Update the means and covariances for each cluster\n",
        "        p_xs = []\n",
        "        for k in range(self.num_clusters):\n",
        "            # Compute expected sufficient stats\n",
        "            weights = q_z_probs[:, k]\n",
        "            Ex = np.einsum('n,ni->i', weights, q_x.loc)\n",
        "            ExExT = np.einsum('ni,nj->nij', q_x.loc, q_x.loc)\n",
        "            ExxT = np.einsum('n,nij->ij', weights, q_x.covariance() + ExExT)\n",
        "            \n",
        "            # Compute the NIW posterior mode\n",
        "            p_xs.append(niw_posterior_mode(weights.sum(), Ex, ExxT))\n",
        "        \n",
        "        return dict(probs=p_z.probs), [dict(loc=p_x.loc, covariance_matrix=p_x.covariance()) for p_x in p_xs]"
      ],
      "execution_count": 35,
      "outputs": []
    },
    {
      "cell_type": "markdown",
      "metadata": {
        "id": "bQDMUxeDBMCv",
        "colab_type": "text"
      },
      "source": [
        "## Fit it!"
      ]
    },
    {
      "cell_type": "code",
      "metadata": {
        "id": "wP_qML1PIfR-",
        "colab_type": "code",
        "colab": {
          "base_uri": "https://localhost:8080/",
          "height": 34
        },
        "outputId": "66557112-b3b3-47e4-88ed-42000f2be4e4"
      },
      "source": [
        "-dists.MultivariateNormalFullCovariance(np.zeros(2), 1e-4 * np.eye(2)).entropy()"
      ],
      "execution_count": 37,
      "outputs": [
        {
          "output_type": "execute_result",
          "data": {
            "text/plain": [
              "DeviceArray(6.372463, dtype=float32)"
            ]
          },
          "metadata": {
            "tags": []
          },
          "execution_count": 37
        }
      ]
    },
    {
      "cell_type": "code",
      "metadata": {
        "id": "NNAJD2c_CCdO",
        "colab_type": "code",
        "colab": {
          "base_uri": "https://localhost:8080/",
          "height": 66,
          "referenced_widgets": [
            "25e453374c7340b38e0958240775a7d3",
            "59b312682a97439c80343ec506693d61",
            "793121e1bf32480ca9b42c8b9fa80d1a",
            "54777a7a45af4ce5884e511828b553d7",
            "48ba5f81d475437d837bddb7d7f3f3b1",
            "ca30483e8ce048cb83b2a1858eac9ca0",
            "233290fba9cb4ea48adaa3ae9789e47f",
            "92045ddbcb6542ada031989bddd1d652"
          ]
        },
        "outputId": "d7ee66af-3381-4456-cd45-b5a71f6e553f"
      },
      "source": [
        "# Create and fit a GMM SVAE\n",
        "gmm = GMMSVAE(data_dim=2, num_clusters=5)\n",
        "rng = jax.random.PRNGKey(0)\n",
        "elbos, kls, params, posterior = gmm.fit(\n",
        "    rng, data, num_iters=5000, \n",
        "    optimizer=optimizers.momentum,\n",
        "    optimizer_kwargs=dict(step_size=1e-4, mass=0.9))"
      ],
      "execution_count": 38,
      "outputs": [
        {
          "output_type": "display_data",
          "data": {
            "application/vnd.jupyter.widget-view+json": {
              "model_id": "25e453374c7340b38e0958240775a7d3",
              "version_minor": 0,
              "version_major": 2
            },
            "text/plain": [
              "HBox(children=(FloatProgress(value=0.0, max=5000.0), HTML(value='')))"
            ]
          },
          "metadata": {
            "tags": []
          }
        },
        {
          "output_type": "stream",
          "text": [
            "\n"
          ],
          "name": "stdout"
        }
      ]
    },
    {
      "cell_type": "code",
      "metadata": {
        "id": "BdCbGPQDVIDB",
        "colab_type": "code",
        "colab": {
          "base_uri": "https://localhost:8080/",
          "height": 352
        },
        "outputId": "a24045e4-619d-4906-c6dc-953329d78359"
      },
      "source": [
        "# Plot the ELBOs.\n",
        "fig, axs = plt.subplots(1, 2, figsize=(10, 5))\n",
        "axs[0].plot(elbos)\n",
        "axs[0].set_ylim(-10, 0)\n",
        "axs[0].set_ylabel(\"elbo\")\n",
        "\n",
        "axs[1].plot(kls, label=\"KL to prior\")\n",
        "axs[1].plot(elbos + kls, label=\"expected LL\")\n",
        "axs[1].set_ylim(-5, 5)\n",
        "axs[1].set_ylabel(\"elbo\")\n",
        "axs[1].legend(loc=\"lower right\")\n",
        "\n",
        "for ax in axs:\n",
        "    ax.set_xlabel(\"iteration\")\n",
        "    sns.despine(ax=ax)\n",
        "    ax.grid(True)\n",
        "    \n",
        "plt.tight_layout()"
      ],
      "execution_count": 39,
      "outputs": [
        {
          "output_type": "display_data",
          "data": {
            "image/png": "[encoded data removed]",
            "text/plain": [
              "<Figure size 720x360 with 2 Axes>"
            ]
          },
          "metadata": {
            "tags": []
          }
        }
      ]
    },
    {
      "cell_type": "code",
      "metadata": {
        "id": "b5l0UMLTDJCd",
        "colab_type": "code",
        "colab": {
          "base_uri": "https://localhost:8080/",
          "height": 272
        },
        "outputId": "0590adca-b777-44ba-b813-d0a24f90e31b"
      },
      "source": [
        "def plot_gaussian_2D(mu, Sigma, ax=None, **kwargs):\n",
        "    \"\"\"\n",
        "    Helper function to plot 2D Gaussian contours\n",
        "    \"\"\"\n",
        "    angles = np.hstack([np.arange(0, 2*np.pi, 0.01), 0])\n",
        "    circle = np.vstack([np.sin(angles), np.cos(angles)])\n",
        "    ellipse = np.dot(2 * np.linalg.cholesky(Sigma), circle)\n",
        "\n",
        "    ax = plt.gca() if ax is None else ax\n",
        "    point = ax.plot(mu[0], mu[1], marker='D', **kwargs)\n",
        "    line, = ax.plot(ellipse[0, :] + mu[0], ellipse[1, :] + mu[1], **kwargs)\n",
        "    \n",
        "p_z, p_xs = gmm.prior(params[0])\n",
        "posterior = gmm.infer(params, data)\n",
        "q_z, q_x = posterior.q_z, posterior.q_x\n",
        "inferred_labels = np.argmax(q_z.logits, axis=1)\n",
        "reconstructed_data = gmm.reconstruct(params, data).loc\n",
        "\n",
        "# Color the data by their inferred posterior\n",
        "fig, axs = plt.subplots(1, 3, figsize=(12, 6))\n",
        "for k in range(labels.max() + 1):\n",
        "    axs[0].scatter(data[labels == k, 0], \n",
        "                   data[labels == k, 1], s=2)\n",
        "\n",
        "for k in range(inferred_labels.max() + 1):\n",
        "    h = axs[1].scatter(reconstructed_data[inferred_labels == k, 0], \n",
        "                       reconstructed_data[inferred_labels == k, 1], s=2)\n",
        "\n",
        "for k in range(inferred_labels.max() + 1):\n",
        "    h = axs[2].scatter(q_x.loc[inferred_labels == k, 0], \n",
        "                       q_x.loc[inferred_labels == k, 1], s=2, alpha=0.1)\n",
        "    plot_gaussian_2D(p_xs[k].loc, p_xs[k].covariance(), ax=axs[2], \n",
        "                     color=h.get_facecolor()[0], alpha=1.0, lw=3)\n",
        "\n",
        "for ax in axs:\n",
        "    ax.set_aspect('equal')\n",
        "    ax.set_xlabel(\"dim 1\")\n",
        "    ax.set_ylabel(\"dim 2\")\n",
        "    sns.despine()\n",
        "\n",
        "axs[0].set_title(\"Data with True Labels\")\n",
        "axs[1].set_title(\"Recon. Data with Inferred Labels\")\n",
        "axs[2].set_title(\"Inferred Latents and Prior\")\n",
        "plt.tight_layout()"
      ],
      "execution_count": 45,
      "outputs": [
        {
          "output_type": "display_data",
          "data": {
            "image/png": "[encoded data removed]",
            "text/plain": [
              "<Figure size 864x432 with 3 Axes>"
            ]
          },
          "metadata": {
            "tags": []
          }
        }
      ]
    },
    {
      "cell_type": "markdown",
      "metadata": {
        "id": "wncXPHTp4T8X",
        "colab_type": "text"
      },
      "source": [
        "It looks like the GMM-SVAE is *not* learning to un-warp the pinwheels for some reason.  The learned embedding is pretty close to the identity map we started with. "
      ]
    },
    {
      "cell_type": "code",
      "metadata": {
        "id": "KsShpg9xV88X",
        "colab_type": "code",
        "colab": {
          "base_uri": "https://localhost:8080/",
          "height": 301
        },
        "outputId": "81779274-e193-4caf-c266-89ed1cf7a6a1"
      },
      "source": [
        "# Sample\n",
        "z, x, y = gmm.sample(jax.random.PRNGKey(1), params[0], params[2], sample_shape=10000)\n",
        "for k in range(gmm.num_clusters):\n",
        "    plt.plot(y[z==k, 0], y[z==k, 1], 'o', alpha=1.0, ms=2)\n",
        "\n",
        "plt.axis(\"equal\")\n",
        "plt.xlabel(\"dim 1\")\n",
        "plt.ylabel(\"dim 2\")\n",
        "sns.despine()"
      ],
      "execution_count": 43,
      "outputs": [
        {
          "output_type": "display_data",
          "data": {
            "image/png": "[encoded data removed]",
            "text/plain": [
              "<Figure size 432x288 with 1 Axes>"
            ]
          },
          "metadata": {
            "tags": []
          }
        }
      ]
    },
    {
      "cell_type": "markdown",
      "metadata": {
        "id": "QCGt3GsN4jkZ",
        "colab_type": "text"
      },
      "source": [
        "The fact that samples from the prior look so much like the original data confirms this suspicion."
      ]
    },
    {
      "cell_type": "code",
      "metadata": {
        "id": "6seBxkJmqLRr",
        "colab_type": "code",
        "colab": {
          "base_uri": "https://localhost:8080/",
          "height": 295
        },
        "outputId": "311ad089-4e6c-44f2-991d-f8fd266cc449"
      },
      "source": [
        "# Look at how the recognition network changes the data\n",
        "X, Y = np.meshgrid(np.linspace(-2.5, 2.5, 20),\n",
        "                   np.linspace(-2.5, 2.5, 20))\n",
        "\n",
        "xy = np.column_stack((X.ravel(), Y.ravel()))\n",
        "xy_rec = gmm.recognize(params[1], xy).loc\n",
        "xy_dec = gmm.decode(params[2], (None, xy_rec)).loc\n",
        "dxy = xy_dec - xy\n",
        "\n",
        "fig, axs = plt.subplots(1, 3, figsize=(12, 8))\n",
        "\n",
        "for ax in axs:\n",
        "    for k in range(labels.max() + 1):\n",
        "        ax.scatter(data[labels == k, 0], data[labels == k, 1], \n",
        "                    alpha=0.1, s=2)\n",
        "\n",
        "\n",
        "axs[0].quiver(xy[:,0], xy[:,1], (xy_dec - xy)[:,0], (xy_dec - xy)[:,1], angles='xy')\n",
        "axs[1].quiver(xy[:,0], xy[:,1], (xy_rec - xy)[:,0], (xy_rec - xy)[:,1], angles='xy')\n",
        "axs[2].quiver(xy[:,0], xy[:,1], (xy_dec - xy_rec)[:,0], (xy_dec - xy_rec)[:,1], angles='xy')\n",
        "# plt.plot(xy[:,0], xy[:,1], '.k')\n",
        "\n",
        "for ax in axs:\n",
        "    ax.set_xlim(-2.5, 2.5)\n",
        "    ax.set_ylim(-2.5, 2.5)\n",
        "    ax.set_aspect(\"equal\")\n",
        "    sns.despine()\n",
        "\n",
        "axs[0].set_title(\"Reconstruction error as a flow field\")\n",
        "axs[1].set_title(\"Encoder network\")\n",
        "axs[2].set_title(\"Decoder network\")"
      ],
      "execution_count": 46,
      "outputs": [
        {
          "output_type": "execute_result",
          "data": {
            "text/plain": [
              "Text(0.5, 1.0, 'Decoder network')"
            ]
          },
          "metadata": {
            "tags": []
          },
          "execution_count": 46
        },
        {
          "output_type": "display_data",
          "data": {
            "image/png": "[encoded data removed]",
            "text/plain": [
              "<Figure size 864x576 with 3 Axes>"
            ]
          },
          "metadata": {
            "tags": []
          }
        }
      ]
    },
    {
      "cell_type": "markdown",
      "metadata": {
        "id": "AQXRtQt44qRI",
        "colab_type": "text"
      },
      "source": [
        "It's not perfectly the identity though!  This shows the reconstruction error as a function of data location.  The error is small near the pinwheels (since that's where the model was trained), but outside of these areas the reconstructions actually warp the points a bit. "
      ]
    },
    {
      "cell_type": "markdown",
      "metadata": {
        "id": "rf2Ztf9uxPNo",
        "colab_type": "text"
      },
      "source": [
        "# Work in progress\n"
      ]
    },
    {
      "cell_type": "markdown",
      "metadata": {
        "id": "5sQYJ6e8dvBs",
        "colab_type": "text"
      },
      "source": [
        "### Check capacity of recognition network"
      ]
    },
    {
      "cell_type": "code",
      "metadata": {
        "id": "cYlJQ3INduBt",
        "colab_type": "code",
        "colab": {}
      },
      "source": [
        "W_init = nn_init.uniform(0.01)\n",
        "init_recognize, _recognize = \\\n",
        "    serial(\n",
        "        FanOut(2),\n",
        "        parallel(\n",
        "            serial(\n",
        "                Dense(50, W_init=W_init, b_init=W_init),\n",
        "                Relu, \n",
        "                # Dense(50, W_init=W_init, b_init=W_init),\n",
        "                # Relu, \n",
        "                Dense(data_dim, W_init=W_init, b_init=W_init)\n",
        "                ),\n",
        "            Identity\n",
        "        ),\n",
        "        FanInSum\n",
        "    )\n",
        "_, recognition_params = init_recognize(jax.random.PRNGKey(0), input_shape=(-1, data_dim))\n",
        "\n",
        "\n",
        "def loss(prms):\n",
        "    return np.sum((_recognize(prms, data) - latents)**2) / data.size\n",
        "\n",
        "step_size = 0.0001\n",
        "momentum_mass = 0.9\n",
        "# opt_init, opt_update, get_params = optimizers.momentum(step_size, mass=momentum_mass)\n",
        "opt_init, opt_update, get_params = optimizers.adam(1e-2)\n",
        "opt_state = opt_init(recognition_params)\n",
        "\n",
        "# Take a gradient step wrt the recognition and decoder params\n",
        "pbar = trange(1000)\n",
        "f = jit(value_and_grad(loss))\n",
        "for itr in pbar:\n",
        "    val, g = f(get_params(opt_state))\n",
        "    opt_state = opt_update(itr, g, opt_state)\n",
        "    pbar.set_description(\"loss: {:.2f}\".format(val))\n",
        "\n",
        "# Plot the true and inferred latents\n",
        "inferred_latents = _recognize(get_params(opt_state), data)\n",
        "\n",
        "fig, axs = plt.subplots(1, 3, figsize=(12, 6))\n",
        "for k in range(labels.max() + 1):\n",
        "    axs[0].scatter(data[labels == k, 0], data[labels == k, 1], s=2)\n",
        "    axs[1].scatter(latents[labels == k, 0], latents[labels == k, 1], s=2)\n",
        "    axs[2].scatter(inferred_latents[labels == k, 0], inferred_latents[labels == k, 1], s=2)\n"
      ],
      "execution_count": null,
      "outputs": []
    },
    {
      "cell_type": "markdown",
      "metadata": {
        "id": "FPybxyTz0AK3",
        "colab_type": "text"
      },
      "source": [
        "### Implement a generic fixed point function and its gradient\n",
        "\n",
        "This is slightly modified from the [JAX tutorial](https://jax.readthedocs.io/en/latest/notebooks/Custom_derivative_rules_for_Python_code.html)."
      ]
    },
    {
      "cell_type": "code",
      "metadata": {
        "id": "c-urPTYxs433",
        "colab_type": "code",
        "colab": {}
      },
      "source": [
        "# Write a helper function to evaluate fixed points\n",
        "# from \n",
        "from functools import partial\n",
        "from jax.lax import while_loop\n",
        "from jax import vjp, custom_vjp\n",
        "from jax.flatten_util import ravel_pytree\n",
        "\n",
        "@partial(custom_vjp, nondiff_argnums=(0,))\n",
        "def _fixed_point(f, a, x_guess):\n",
        "    def cond_fun(carry):\n",
        "        x_prev, x = carry\n",
        "        delta = np.abs(x_prev - x).mean()\n",
        "        return delta > 1e-4\n",
        "\n",
        "    def body_fun(carry):\n",
        "        _, x = carry\n",
        "        return x, f(a, x)\n",
        "\n",
        "    _, x_star = while_loop(cond_fun, body_fun, (x_guess, f(a, x_guess)))\n",
        "    return x_star\n",
        "\n",
        "def _fixed_point_fwd(f, a, x_init):\n",
        "    x_star = _fixed_point(f, a, x_init)\n",
        "    return x_star, (a, x_star)\n",
        "\n",
        "def _fixed_point_rev(f, res, x_star_bar):\n",
        "    a, x_star = res\n",
        "    _, vjp_a = vjp(lambda a: f(a, x_star), a)\n",
        "    a_bar, = vjp_a(_fixed_point(partial(_rev_iter, f),\n",
        "                                (a, x_star, x_star_bar),\n",
        "                                x_star_bar))\n",
        "    return a_bar, np.zeros_like(x_star)\n",
        "\n",
        "def _rev_iter(f, packed, u):\n",
        "    # Subtract a small value to stablize the reverse iteration\n",
        "    a, x_star, x_star_bar = packed\n",
        "    _, vjp_x = vjp(lambda x: f(a, x), x_star)\n",
        "    return (x_star_bar + vjp_x(u)[0])\n",
        "\n",
        "_fixed_point.defvjp(_fixed_point_fwd, _fixed_point_rev)\n",
        "\n",
        "def fixed_point(f, a, x0):\n",
        "    \"\"\"\n",
        "    Iteratively run the fixed point iteration\n",
        "    ..math:\n",
        "        x \\from f(a, x)\n",
        "\n",
        "    with parameters :math:`a`, until the L1 norm of the change in :math:`x` is \n",
        "    less than the specified tolerance.\n",
        "\n",
        "    `f` is a function that maps `a, x -> x`\n",
        "\n",
        "    `a` are the parameters of the function\n",
        "\n",
        "    `x0` is an initial guess at the fixed point\n",
        "\n",
        "    `tolerance` specifies the necessary L1 norm of the change in output before \n",
        "    convergence is reached. \n",
        "    \"\"\"\n",
        "    # Use tree flatten and unflatten to convert inputs from PyTrees to flat arrays\n",
        "    a_flat, unravel_a = ravel_pytree(a)\n",
        "    x0_flat, unravel_x = ravel_pytree(x0)\n",
        "    \n",
        "    # Wrap the objective function to consume flat _original_ \n",
        "    # numpy arrays and produce scalar outputs.\n",
        "    def f_wrapper(a_flat, x_flat):\n",
        "        a = unravel_a(a_flat)\n",
        "        x = unravel_x(x_flat)\n",
        "        return ravel_pytree(f(a, x))[0]\n",
        "\n",
        "    return unravel_x(_fixed_point(f_wrapper, a_flat, x0_flat))\n",
        "\n",
        "# # Test out the fixed point on a square root function\n",
        "# def newton_sqrt(a):\n",
        "#     update = lambda a, x: 0.5 * (x + a / x)\n",
        "#     return _fixed_point(update, a, a)\n",
        "\n",
        "# def newton_sqrt_dict(args):\n",
        "#     update = lambda args, x: 0.5 * np.atleast_1d(x + args['a'] / x)\n",
        "#     return fixed_point(update, args, args['a'])\n",
        "\n",
        "# print(\"sqrt(2.0):             \", np.sqrt(2.0))\n",
        "# print(\"newton_sqrt(2.0):      \", newton_sqrt(2.0))\n",
        "# print(\"newton_sqrt_dict(2.0): \", newton_sqrt_dict(dict(a=2.0)))\n",
        "\n",
        "# # Test gradients\n",
        "# print(\"g1 \", grad(np.sqrt)(2.0))\n",
        "# print(\"g2 \", grad(newton_sqrt)(2.0))\n",
        "# print(\"g3 \", grad(newton_sqrt_dict)(dict(a=2.0)))"
      ],
      "execution_count": null,
      "outputs": []
    }
  ]
}